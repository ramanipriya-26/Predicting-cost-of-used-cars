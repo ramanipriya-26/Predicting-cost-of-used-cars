{
 "cells": [
  {
   "cell_type": "markdown",
   "metadata": {},
   "source": [
    "Importing Modules:"
   ]
  },
  {
   "cell_type": "code",
   "execution_count": 1,
   "metadata": {},
   "outputs": [],
   "source": [
    "import re\n",
    "import pandas as pd\n",
    "import seaborn as sns\n",
    "import numpy as np\n",
    "import matplotlib.pyplot as plt\n",
    "import warnings\n",
    "sns.set_style('darkgrid')\n",
    "warnings.filterwarnings('ignore')"
   ]
  },
  {
   "cell_type": "markdown",
   "metadata": {},
   "source": [
    "Importing Train and Test files:"
   ]
  },
  {
   "cell_type": "code",
   "execution_count": 2,
   "metadata": {},
   "outputs": [],
   "source": [
    "train = pd.read_excel(r'C:\\Users\\M Ramani Priya\\Desktop\\DATA_TRAIN.xlsx')\n",
    "test = pd.read_excel(r'C:\\Users\\M Ramani Priya\\Desktop\\DATA_TEST.xlsx')"
   ]
  },
  {
   "cell_type": "markdown",
   "metadata": {},
   "source": [
    "Data Exploration:"
   ]
  },
  {
   "cell_type": "code",
   "execution_count": 3,
   "metadata": {},
   "outputs": [
    {
     "name": "stdout",
     "output_type": "stream",
     "text": [
      "The columns in Data_Train are Index(['Name', 'Location', 'Year', 'Kilometers_Driven', 'Fuel_Type',\n",
      "       'Transmission', 'Owner_Type', 'Mileage', 'Engine', 'Power', 'Seats',\n",
      "       'Price'],\n",
      "      dtype='object')\n"
     ]
    }
   ],
   "source": [
    "print('The columns in Data_Train are',train.columns)"
   ]
  },
  {
   "cell_type": "code",
   "execution_count": 4,
   "metadata": {},
   "outputs": [
    {
     "name": "stdout",
     "output_type": "stream",
     "text": [
      "The columns in Data_Test are Index(['Name', 'Location', 'Year', 'Kilometers_Driven', 'Fuel_Type',\n",
      "       'Transmission', 'Owner_Type', 'Mileage', 'Engine', 'Power', 'Seats'],\n",
      "      dtype='object')\n"
     ]
    }
   ],
   "source": [
    "print('The columns in Data_Test are',test.columns)"
   ]
  },
  {
   "cell_type": "code",
   "execution_count": 5,
   "metadata": {},
   "outputs": [
    {
     "data": {
      "text/plain": [
       "((6019, 12), (1234, 11))"
      ]
     },
     "execution_count": 5,
     "metadata": {},
     "output_type": "execute_result"
    }
   ],
   "source": [
    "train.shape,test.shape"
   ]
  },
  {
   "cell_type": "markdown",
   "metadata": {},
   "source": [
    "Analysing duplicate values:"
   ]
  },
  {
   "cell_type": "code",
   "execution_count": 6,
   "metadata": {},
   "outputs": [
    {
     "data": {
      "text/plain": [
       "(0, 1)"
      ]
     },
     "execution_count": 6,
     "metadata": {},
     "output_type": "execute_result"
    }
   ],
   "source": [
    "train.duplicated().sum(),test.duplicated().sum()"
   ]
  },
  {
   "cell_type": "code",
   "execution_count": 7,
   "metadata": {},
   "outputs": [
    {
     "data": {
      "text/html": [
       "<div>\n",
       "<style scoped>\n",
       "    .dataframe tbody tr th:only-of-type {\n",
       "        vertical-align: middle;\n",
       "    }\n",
       "\n",
       "    .dataframe tbody tr th {\n",
       "        vertical-align: top;\n",
       "    }\n",
       "\n",
       "    .dataframe thead th {\n",
       "        text-align: right;\n",
       "    }\n",
       "</style>\n",
       "<table border=\"1\" class=\"dataframe\">\n",
       "  <thead>\n",
       "    <tr style=\"text-align: right;\">\n",
       "      <th></th>\n",
       "      <th>Name</th>\n",
       "      <th>Location</th>\n",
       "      <th>Year</th>\n",
       "      <th>Kilometers_Driven</th>\n",
       "      <th>Fuel_Type</th>\n",
       "      <th>Transmission</th>\n",
       "      <th>Owner_Type</th>\n",
       "      <th>Mileage</th>\n",
       "      <th>Engine</th>\n",
       "      <th>Power</th>\n",
       "      <th>Seats</th>\n",
       "      <th>Price</th>\n",
       "    </tr>\n",
       "  </thead>\n",
       "  <tbody>\n",
       "    <tr>\n",
       "      <th>0</th>\n",
       "      <td>Maruti Wagon R LXI CNG</td>\n",
       "      <td>Mumbai</td>\n",
       "      <td>2010</td>\n",
       "      <td>72000</td>\n",
       "      <td>CNG</td>\n",
       "      <td>Manual</td>\n",
       "      <td>First</td>\n",
       "      <td>26.6 km/kg</td>\n",
       "      <td>998 CC</td>\n",
       "      <td>58.16 bhp</td>\n",
       "      <td>5.0</td>\n",
       "      <td>1.75</td>\n",
       "    </tr>\n",
       "    <tr>\n",
       "      <th>1</th>\n",
       "      <td>Hyundai Creta 1.6 CRDi SX Option</td>\n",
       "      <td>Pune</td>\n",
       "      <td>2015</td>\n",
       "      <td>41000</td>\n",
       "      <td>Diesel</td>\n",
       "      <td>Manual</td>\n",
       "      <td>First</td>\n",
       "      <td>19.67 kmpl</td>\n",
       "      <td>1582 CC</td>\n",
       "      <td>126.2 bhp</td>\n",
       "      <td>5.0</td>\n",
       "      <td>12.50</td>\n",
       "    </tr>\n",
       "    <tr>\n",
       "      <th>2</th>\n",
       "      <td>Honda Jazz V</td>\n",
       "      <td>Chennai</td>\n",
       "      <td>2011</td>\n",
       "      <td>46000</td>\n",
       "      <td>Petrol</td>\n",
       "      <td>Manual</td>\n",
       "      <td>First</td>\n",
       "      <td>18.2 kmpl</td>\n",
       "      <td>1199 CC</td>\n",
       "      <td>88.7 bhp</td>\n",
       "      <td>5.0</td>\n",
       "      <td>4.50</td>\n",
       "    </tr>\n",
       "    <tr>\n",
       "      <th>3</th>\n",
       "      <td>Maruti Ertiga VDI</td>\n",
       "      <td>Chennai</td>\n",
       "      <td>2012</td>\n",
       "      <td>87000</td>\n",
       "      <td>Diesel</td>\n",
       "      <td>Manual</td>\n",
       "      <td>First</td>\n",
       "      <td>20.77 kmpl</td>\n",
       "      <td>1248 CC</td>\n",
       "      <td>88.76 bhp</td>\n",
       "      <td>7.0</td>\n",
       "      <td>6.00</td>\n",
       "    </tr>\n",
       "    <tr>\n",
       "      <th>4</th>\n",
       "      <td>Audi A4 New 2.0 TDI Multitronic</td>\n",
       "      <td>Coimbatore</td>\n",
       "      <td>2013</td>\n",
       "      <td>40670</td>\n",
       "      <td>Diesel</td>\n",
       "      <td>Automatic</td>\n",
       "      <td>Second</td>\n",
       "      <td>15.2 kmpl</td>\n",
       "      <td>1968 CC</td>\n",
       "      <td>140.8 bhp</td>\n",
       "      <td>5.0</td>\n",
       "      <td>17.74</td>\n",
       "    </tr>\n",
       "    <tr>\n",
       "      <th>5</th>\n",
       "      <td>Hyundai EON LPG Era Plus Option</td>\n",
       "      <td>Hyderabad</td>\n",
       "      <td>2012</td>\n",
       "      <td>75000</td>\n",
       "      <td>LPG</td>\n",
       "      <td>Manual</td>\n",
       "      <td>First</td>\n",
       "      <td>21.1 km/kg</td>\n",
       "      <td>814 CC</td>\n",
       "      <td>55.2 bhp</td>\n",
       "      <td>5.0</td>\n",
       "      <td>2.35</td>\n",
       "    </tr>\n",
       "    <tr>\n",
       "      <th>6</th>\n",
       "      <td>Nissan Micra Diesel XV</td>\n",
       "      <td>Jaipur</td>\n",
       "      <td>2013</td>\n",
       "      <td>86999</td>\n",
       "      <td>Diesel</td>\n",
       "      <td>Manual</td>\n",
       "      <td>First</td>\n",
       "      <td>23.08 kmpl</td>\n",
       "      <td>1461 CC</td>\n",
       "      <td>63.1 bhp</td>\n",
       "      <td>5.0</td>\n",
       "      <td>3.50</td>\n",
       "    </tr>\n",
       "    <tr>\n",
       "      <th>7</th>\n",
       "      <td>Toyota Innova Crysta 2.8 GX AT 8S</td>\n",
       "      <td>Mumbai</td>\n",
       "      <td>2016</td>\n",
       "      <td>36000</td>\n",
       "      <td>Diesel</td>\n",
       "      <td>Automatic</td>\n",
       "      <td>First</td>\n",
       "      <td>11.36 kmpl</td>\n",
       "      <td>2755 CC</td>\n",
       "      <td>171.5 bhp</td>\n",
       "      <td>8.0</td>\n",
       "      <td>17.50</td>\n",
       "    </tr>\n",
       "    <tr>\n",
       "      <th>8</th>\n",
       "      <td>Volkswagen Vento Diesel Comfortline</td>\n",
       "      <td>Pune</td>\n",
       "      <td>2013</td>\n",
       "      <td>64430</td>\n",
       "      <td>Diesel</td>\n",
       "      <td>Manual</td>\n",
       "      <td>First</td>\n",
       "      <td>20.54 kmpl</td>\n",
       "      <td>1598 CC</td>\n",
       "      <td>103.6 bhp</td>\n",
       "      <td>5.0</td>\n",
       "      <td>5.20</td>\n",
       "    </tr>\n",
       "    <tr>\n",
       "      <th>9</th>\n",
       "      <td>Tata Indica Vista Quadrajet LS</td>\n",
       "      <td>Chennai</td>\n",
       "      <td>2012</td>\n",
       "      <td>65932</td>\n",
       "      <td>Diesel</td>\n",
       "      <td>Manual</td>\n",
       "      <td>Second</td>\n",
       "      <td>22.3 kmpl</td>\n",
       "      <td>1248 CC</td>\n",
       "      <td>74 bhp</td>\n",
       "      <td>5.0</td>\n",
       "      <td>1.95</td>\n",
       "    </tr>\n",
       "  </tbody>\n",
       "</table>\n",
       "</div>"
      ],
      "text/plain": [
       "                                  Name    Location  Year  Kilometers_Driven  \\\n",
       "0               Maruti Wagon R LXI CNG      Mumbai  2010              72000   \n",
       "1     Hyundai Creta 1.6 CRDi SX Option        Pune  2015              41000   \n",
       "2                         Honda Jazz V     Chennai  2011              46000   \n",
       "3                    Maruti Ertiga VDI     Chennai  2012              87000   \n",
       "4      Audi A4 New 2.0 TDI Multitronic  Coimbatore  2013              40670   \n",
       "5      Hyundai EON LPG Era Plus Option   Hyderabad  2012              75000   \n",
       "6               Nissan Micra Diesel XV      Jaipur  2013              86999   \n",
       "7    Toyota Innova Crysta 2.8 GX AT 8S      Mumbai  2016              36000   \n",
       "8  Volkswagen Vento Diesel Comfortline        Pune  2013              64430   \n",
       "9       Tata Indica Vista Quadrajet LS     Chennai  2012              65932   \n",
       "\n",
       "  Fuel_Type Transmission Owner_Type     Mileage   Engine      Power  Seats  \\\n",
       "0       CNG       Manual      First  26.6 km/kg   998 CC  58.16 bhp    5.0   \n",
       "1    Diesel       Manual      First  19.67 kmpl  1582 CC  126.2 bhp    5.0   \n",
       "2    Petrol       Manual      First   18.2 kmpl  1199 CC   88.7 bhp    5.0   \n",
       "3    Diesel       Manual      First  20.77 kmpl  1248 CC  88.76 bhp    7.0   \n",
       "4    Diesel    Automatic     Second   15.2 kmpl  1968 CC  140.8 bhp    5.0   \n",
       "5       LPG       Manual      First  21.1 km/kg   814 CC   55.2 bhp    5.0   \n",
       "6    Diesel       Manual      First  23.08 kmpl  1461 CC   63.1 bhp    5.0   \n",
       "7    Diesel    Automatic      First  11.36 kmpl  2755 CC  171.5 bhp    8.0   \n",
       "8    Diesel       Manual      First  20.54 kmpl  1598 CC  103.6 bhp    5.0   \n",
       "9    Diesel       Manual     Second   22.3 kmpl  1248 CC     74 bhp    5.0   \n",
       "\n",
       "   Price  \n",
       "0   1.75  \n",
       "1  12.50  \n",
       "2   4.50  \n",
       "3   6.00  \n",
       "4  17.74  \n",
       "5   2.35  \n",
       "6   3.50  \n",
       "7  17.50  \n",
       "8   5.20  \n",
       "9   1.95  "
      ]
     },
     "execution_count": 7,
     "metadata": {},
     "output_type": "execute_result"
    }
   ],
   "source": [
    "train.head(10)"
   ]
  },
  {
   "cell_type": "code",
   "execution_count": 8,
   "metadata": {},
   "outputs": [
    {
     "data": {
      "text/html": [
       "<div>\n",
       "<style scoped>\n",
       "    .dataframe tbody tr th:only-of-type {\n",
       "        vertical-align: middle;\n",
       "    }\n",
       "\n",
       "    .dataframe tbody tr th {\n",
       "        vertical-align: top;\n",
       "    }\n",
       "\n",
       "    .dataframe thead th {\n",
       "        text-align: right;\n",
       "    }\n",
       "</style>\n",
       "<table border=\"1\" class=\"dataframe\">\n",
       "  <thead>\n",
       "    <tr style=\"text-align: right;\">\n",
       "      <th></th>\n",
       "      <th>Name</th>\n",
       "      <th>Location</th>\n",
       "      <th>Year</th>\n",
       "      <th>Kilometers_Driven</th>\n",
       "      <th>Fuel_Type</th>\n",
       "      <th>Transmission</th>\n",
       "      <th>Owner_Type</th>\n",
       "      <th>Mileage</th>\n",
       "      <th>Engine</th>\n",
       "      <th>Power</th>\n",
       "      <th>Seats</th>\n",
       "      <th>Price</th>\n",
       "    </tr>\n",
       "  </thead>\n",
       "  <tbody>\n",
       "    <tr>\n",
       "      <th>6009</th>\n",
       "      <td>Toyota Camry Hybrid</td>\n",
       "      <td>Mumbai</td>\n",
       "      <td>2015</td>\n",
       "      <td>33500</td>\n",
       "      <td>Petrol</td>\n",
       "      <td>Automatic</td>\n",
       "      <td>First</td>\n",
       "      <td>19.16 kmpl</td>\n",
       "      <td>2494 CC</td>\n",
       "      <td>158.2 bhp</td>\n",
       "      <td>5.0</td>\n",
       "      <td>19.75</td>\n",
       "    </tr>\n",
       "    <tr>\n",
       "      <th>6010</th>\n",
       "      <td>Honda Brio 1.2 VX MT</td>\n",
       "      <td>Delhi</td>\n",
       "      <td>2013</td>\n",
       "      <td>33746</td>\n",
       "      <td>Petrol</td>\n",
       "      <td>Manual</td>\n",
       "      <td>First</td>\n",
       "      <td>18.5 kmpl</td>\n",
       "      <td>1198 CC</td>\n",
       "      <td>86.8 bhp</td>\n",
       "      <td>5.0</td>\n",
       "      <td>3.20</td>\n",
       "    </tr>\n",
       "    <tr>\n",
       "      <th>6011</th>\n",
       "      <td>Skoda Superb 3.6 V6 FSI</td>\n",
       "      <td>Hyderabad</td>\n",
       "      <td>2009</td>\n",
       "      <td>53000</td>\n",
       "      <td>Petrol</td>\n",
       "      <td>Automatic</td>\n",
       "      <td>First</td>\n",
       "      <td>0.0 kmpl</td>\n",
       "      <td>3597 CC</td>\n",
       "      <td>262.6 bhp</td>\n",
       "      <td>5.0</td>\n",
       "      <td>4.75</td>\n",
       "    </tr>\n",
       "    <tr>\n",
       "      <th>6012</th>\n",
       "      <td>Toyota Innova 2.5 V Diesel 7-seater</td>\n",
       "      <td>Coimbatore</td>\n",
       "      <td>2011</td>\n",
       "      <td>45004</td>\n",
       "      <td>Diesel</td>\n",
       "      <td>Manual</td>\n",
       "      <td>First</td>\n",
       "      <td>12.8 kmpl</td>\n",
       "      <td>2494 CC</td>\n",
       "      <td>102 bhp</td>\n",
       "      <td>7.0</td>\n",
       "      <td>9.48</td>\n",
       "    </tr>\n",
       "    <tr>\n",
       "      <th>6013</th>\n",
       "      <td>Honda Amaze VX i-DTEC</td>\n",
       "      <td>Coimbatore</td>\n",
       "      <td>2015</td>\n",
       "      <td>70602</td>\n",
       "      <td>Diesel</td>\n",
       "      <td>Manual</td>\n",
       "      <td>First</td>\n",
       "      <td>25.8 kmpl</td>\n",
       "      <td>1498 CC</td>\n",
       "      <td>98.6 bhp</td>\n",
       "      <td>5.0</td>\n",
       "      <td>4.83</td>\n",
       "    </tr>\n",
       "    <tr>\n",
       "      <th>6014</th>\n",
       "      <td>Maruti Swift VDI</td>\n",
       "      <td>Delhi</td>\n",
       "      <td>2014</td>\n",
       "      <td>27365</td>\n",
       "      <td>Diesel</td>\n",
       "      <td>Manual</td>\n",
       "      <td>First</td>\n",
       "      <td>28.4 kmpl</td>\n",
       "      <td>1248 CC</td>\n",
       "      <td>74 bhp</td>\n",
       "      <td>5.0</td>\n",
       "      <td>4.75</td>\n",
       "    </tr>\n",
       "    <tr>\n",
       "      <th>6015</th>\n",
       "      <td>Hyundai Xcent 1.1 CRDi S</td>\n",
       "      <td>Jaipur</td>\n",
       "      <td>2015</td>\n",
       "      <td>100000</td>\n",
       "      <td>Diesel</td>\n",
       "      <td>Manual</td>\n",
       "      <td>First</td>\n",
       "      <td>24.4 kmpl</td>\n",
       "      <td>1120 CC</td>\n",
       "      <td>71 bhp</td>\n",
       "      <td>5.0</td>\n",
       "      <td>4.00</td>\n",
       "    </tr>\n",
       "    <tr>\n",
       "      <th>6016</th>\n",
       "      <td>Mahindra Xylo D4 BSIV</td>\n",
       "      <td>Jaipur</td>\n",
       "      <td>2012</td>\n",
       "      <td>55000</td>\n",
       "      <td>Diesel</td>\n",
       "      <td>Manual</td>\n",
       "      <td>Second</td>\n",
       "      <td>14.0 kmpl</td>\n",
       "      <td>2498 CC</td>\n",
       "      <td>112 bhp</td>\n",
       "      <td>8.0</td>\n",
       "      <td>2.90</td>\n",
       "    </tr>\n",
       "    <tr>\n",
       "      <th>6017</th>\n",
       "      <td>Maruti Wagon R VXI</td>\n",
       "      <td>Kolkata</td>\n",
       "      <td>2013</td>\n",
       "      <td>46000</td>\n",
       "      <td>Petrol</td>\n",
       "      <td>Manual</td>\n",
       "      <td>First</td>\n",
       "      <td>18.9 kmpl</td>\n",
       "      <td>998 CC</td>\n",
       "      <td>67.1 bhp</td>\n",
       "      <td>5.0</td>\n",
       "      <td>2.65</td>\n",
       "    </tr>\n",
       "    <tr>\n",
       "      <th>6018</th>\n",
       "      <td>Chevrolet Beat Diesel</td>\n",
       "      <td>Hyderabad</td>\n",
       "      <td>2011</td>\n",
       "      <td>47000</td>\n",
       "      <td>Diesel</td>\n",
       "      <td>Manual</td>\n",
       "      <td>First</td>\n",
       "      <td>25.44 kmpl</td>\n",
       "      <td>936 CC</td>\n",
       "      <td>57.6 bhp</td>\n",
       "      <td>5.0</td>\n",
       "      <td>2.50</td>\n",
       "    </tr>\n",
       "  </tbody>\n",
       "</table>\n",
       "</div>"
      ],
      "text/plain": [
       "                                     Name    Location  Year  \\\n",
       "6009                  Toyota Camry Hybrid      Mumbai  2015   \n",
       "6010                 Honda Brio 1.2 VX MT       Delhi  2013   \n",
       "6011              Skoda Superb 3.6 V6 FSI   Hyderabad  2009   \n",
       "6012  Toyota Innova 2.5 V Diesel 7-seater  Coimbatore  2011   \n",
       "6013                Honda Amaze VX i-DTEC  Coimbatore  2015   \n",
       "6014                     Maruti Swift VDI       Delhi  2014   \n",
       "6015             Hyundai Xcent 1.1 CRDi S      Jaipur  2015   \n",
       "6016                Mahindra Xylo D4 BSIV      Jaipur  2012   \n",
       "6017                   Maruti Wagon R VXI     Kolkata  2013   \n",
       "6018                Chevrolet Beat Diesel   Hyderabad  2011   \n",
       "\n",
       "      Kilometers_Driven Fuel_Type Transmission Owner_Type     Mileage  \\\n",
       "6009              33500    Petrol    Automatic      First  19.16 kmpl   \n",
       "6010              33746    Petrol       Manual      First   18.5 kmpl   \n",
       "6011              53000    Petrol    Automatic      First    0.0 kmpl   \n",
       "6012              45004    Diesel       Manual      First   12.8 kmpl   \n",
       "6013              70602    Diesel       Manual      First   25.8 kmpl   \n",
       "6014              27365    Diesel       Manual      First   28.4 kmpl   \n",
       "6015             100000    Diesel       Manual      First   24.4 kmpl   \n",
       "6016              55000    Diesel       Manual     Second   14.0 kmpl   \n",
       "6017              46000    Petrol       Manual      First   18.9 kmpl   \n",
       "6018              47000    Diesel       Manual      First  25.44 kmpl   \n",
       "\n",
       "       Engine      Power  Seats  Price  \n",
       "6009  2494 CC  158.2 bhp    5.0  19.75  \n",
       "6010  1198 CC   86.8 bhp    5.0   3.20  \n",
       "6011  3597 CC  262.6 bhp    5.0   4.75  \n",
       "6012  2494 CC    102 bhp    7.0   9.48  \n",
       "6013  1498 CC   98.6 bhp    5.0   4.83  \n",
       "6014  1248 CC     74 bhp    5.0   4.75  \n",
       "6015  1120 CC     71 bhp    5.0   4.00  \n",
       "6016  2498 CC    112 bhp    8.0   2.90  \n",
       "6017   998 CC   67.1 bhp    5.0   2.65  \n",
       "6018   936 CC   57.6 bhp    5.0   2.50  "
      ]
     },
     "execution_count": 8,
     "metadata": {},
     "output_type": "execute_result"
    }
   ],
   "source": [
    "train.tail(10)"
   ]
  },
  {
   "cell_type": "code",
   "execution_count": 9,
   "metadata": {},
   "outputs": [
    {
     "name": "stdout",
     "output_type": "stream",
     "text": [
      "<class 'pandas.core.frame.DataFrame'>\n",
      "RangeIndex: 6019 entries, 0 to 6018\n",
      "Data columns (total 12 columns):\n",
      " #   Column             Non-Null Count  Dtype  \n",
      "---  ------             --------------  -----  \n",
      " 0   Name               6019 non-null   object \n",
      " 1   Location           6019 non-null   object \n",
      " 2   Year               6019 non-null   int64  \n",
      " 3   Kilometers_Driven  6019 non-null   int64  \n",
      " 4   Fuel_Type          6019 non-null   object \n",
      " 5   Transmission       6019 non-null   object \n",
      " 6   Owner_Type         6019 non-null   object \n",
      " 7   Mileage            6017 non-null   object \n",
      " 8   Engine             5983 non-null   object \n",
      " 9   Power              5983 non-null   object \n",
      " 10  Seats              5977 non-null   float64\n",
      " 11  Price              6019 non-null   float64\n",
      "dtypes: float64(2), int64(2), object(8)\n",
      "memory usage: 564.4+ KB\n"
     ]
    }
   ],
   "source": [
    "train.info()"
   ]
  },
  {
   "cell_type": "code",
   "execution_count": 10,
   "metadata": {},
   "outputs": [
    {
     "data": {
      "text/plain": [
       "Name                  0\n",
       "Location              0\n",
       "Year                  0\n",
       "Kilometers_Driven     0\n",
       "Fuel_Type             0\n",
       "Transmission          0\n",
       "Owner_Type            0\n",
       "Mileage               2\n",
       "Engine               36\n",
       "Power                36\n",
       "Seats                42\n",
       "Price                 0\n",
       "dtype: int64"
      ]
     },
     "execution_count": 10,
     "metadata": {},
     "output_type": "execute_result"
    }
   ],
   "source": [
    "train.isnull().sum()"
   ]
  },
  {
   "cell_type": "code",
   "execution_count": 11,
   "metadata": {},
   "outputs": [
    {
     "data": {
      "text/plain": [
       "Name                 1876\n",
       "Location               11\n",
       "Year                   22\n",
       "Kilometers_Driven    3093\n",
       "Fuel_Type               5\n",
       "Transmission            2\n",
       "Owner_Type              4\n",
       "Mileage               442\n",
       "Engine                146\n",
       "Power                 372\n",
       "Seats                   9\n",
       "Price                1373\n",
       "dtype: int64"
      ]
     },
     "execution_count": 11,
     "metadata": {},
     "output_type": "execute_result"
    }
   ],
   "source": [
    "train.nunique()"
   ]
  },
  {
   "cell_type": "markdown",
   "metadata": {},
   "source": [
    "Data Preprocessing:"
   ]
  },
  {
   "cell_type": "code",
   "execution_count": 12,
   "metadata": {},
   "outputs": [],
   "source": [
    "train.insert(1,'Car_Brand',True)\n",
    "train.insert(2,'Car_Model',True)\n",
    "train.insert(3,'Car_Version',True)\n",
    "test.insert(1,'Car_Brand',True)\n",
    "test.insert(2,'Car_Model',True)\n",
    "test.insert(3,'Car_Version',True)"
   ]
  },
  {
   "cell_type": "code",
   "execution_count": 13,
   "metadata": {},
   "outputs": [],
   "source": [
    "train['Car_Brand'] = train['Name'].apply(lambda x: ' '.join(x.split(' ')[:1]))\n",
    "test['Car_Brand'] = test['Name'].apply(lambda x: ' '.join(x.split(' ')[:1]))\n",
    "train['Car_Model'] = train['Name'].apply(lambda x: ' '.join(x.split(' ')[1:2]))\n",
    "test['Car_Model'] = test['Name'].apply(lambda x: ' '.join(x.split(' ')[1:2]))\n",
    "train['Car_Version'] = train['Name'].apply(lambda x: ' '.join(x.split(' ')[2:]))\n",
    "test['Car_Version'] = test['Name'].apply(lambda x: ' '.join(x.split(' ')[2:]))"
   ]
  },
  {
   "cell_type": "markdown",
   "metadata": {},
   "source": [
    "ANALYSING DATA:"
   ]
  },
  {
   "cell_type": "code",
   "execution_count": 14,
   "metadata": {},
   "outputs": [
    {
     "name": "stdout",
     "output_type": "stream",
     "text": [
      "Index(['Year', 'Kilometers_Driven', 'Seats', 'Price'], dtype='object')\n"
     ]
    },
    {
     "data": {
      "text/plain": [
       "Text(0.5, 1, 'Heat Map')"
      ]
     },
     "execution_count": 14,
     "metadata": {},
     "output_type": "execute_result"
    },
    {
     "data": {
      "image/png": "[encoded data removed]",
      "text/plain": [
       "<Figure size 432x288 with 2 Axes>"
      ]
     },
     "metadata": {},
     "output_type": "display_data"
    }
   ],
   "source": [
    "correlation=train.corr()\n",
    "print(correlation.columns),\n",
    "ax=sns.heatmap(correlation)\n",
    "plt.title('Heat Map')"
   ]
  },
  {
   "cell_type": "markdown",
   "metadata": {},
   "source": [
    "Identifying Outliers:"
   ]
  },
  {
   "cell_type": "code",
   "execution_count": 15,
   "metadata": {},
   "outputs": [
    {
     "data": {
      "text/plain": [
       "0        72000\n",
       "1        41000\n",
       "2        46000\n",
       "3        87000\n",
       "4        40670\n",
       "         ...  \n",
       "6014     27365\n",
       "6015    100000\n",
       "6016     55000\n",
       "6017     46000\n",
       "6018     47000\n",
       "Name: Kilometers_Driven, Length: 6019, dtype: int64"
      ]
     },
     "execution_count": 15,
     "metadata": {},
     "output_type": "execute_result"
    }
   ],
   "source": [
    "train['Kilometers_Driven']"
   ]
  },
  {
   "cell_type": "code",
   "execution_count": 16,
   "metadata": {},
   "outputs": [
    {
     "name": "stdout",
     "output_type": "stream",
     "text": [
      "171 6500000\n"
     ]
    }
   ],
   "source": [
    "print(min(train['Kilometers_Driven']),max(train['Kilometers_Driven']))\n"
   ]
  },
  {
   "cell_type": "code",
   "execution_count": 17,
   "metadata": {},
   "outputs": [
    {
     "data": {
      "text/plain": [
       "0       42\n",
       "1       31\n",
       "2       28\n",
       "3       12\n",
       "4        1\n",
       "        ..\n",
       "6014     1\n",
       "6015    42\n",
       "6016    60\n",
       "6017    28\n",
       "6018    29\n",
       "Name: no_of_cars1, Length: 6019, dtype: int64"
      ]
     },
     "execution_count": 17,
     "metadata": {},
     "output_type": "execute_result"
    }
   ],
   "source": [
    "train['no_of_cars1']=train.groupby('Kilometers_Driven')['Kilometers_Driven'].transform('count')\n",
    "train['no_of_cars1']"
   ]
  },
  {
   "cell_type": "code",
   "execution_count": 18,
   "metadata": {
    "scrolled": true
   },
   "outputs": [
    {
     "data": {
      "image/png": "[encoded data removed]",
      "text/plain": [
       "<Figure size 432x288 with 1 Axes>"
      ]
     },
     "metadata": {},
     "output_type": "display_data"
    }
   ],
   "source": [
    "fig=plt.figure()\n",
    "ax=fig.add_axes([0,0,3,3])\n",
    "#ax.bar(train['Kilometers_Driven'],train['no_of_cars1'],width=2.0,color='b')\n",
    "#plt.show()\n",
    "plt.plot(train['Kilometers_Driven'],train['no_of_cars1'])\n",
    "plt.title('Kilometers_Driven Vs no_of_cars')\n",
    "plt.show()"
   ]
  },
  {
   "cell_type": "code",
   "execution_count": 19,
   "metadata": {
    "scrolled": true
   },
   "outputs": [
    {
     "data": {
      "text/html": [
       "<div>\n",
       "<style scoped>\n",
       "    .dataframe tbody tr th:only-of-type {\n",
       "        vertical-align: middle;\n",
       "    }\n",
       "\n",
       "    .dataframe tbody tr th {\n",
       "        vertical-align: top;\n",
       "    }\n",
       "\n",
       "    .dataframe thead th {\n",
       "        text-align: right;\n",
       "    }\n",
       "</style>\n",
       "<table border=\"1\" class=\"dataframe\">\n",
       "  <thead>\n",
       "    <tr style=\"text-align: right;\">\n",
       "      <th></th>\n",
       "      <th>Name</th>\n",
       "      <th>Car_Brand</th>\n",
       "      <th>Car_Model</th>\n",
       "      <th>Car_Version</th>\n",
       "      <th>Location</th>\n",
       "      <th>Year</th>\n",
       "      <th>Kilometers_Driven</th>\n",
       "      <th>Fuel_Type</th>\n",
       "      <th>Transmission</th>\n",
       "      <th>Owner_Type</th>\n",
       "      <th>Mileage</th>\n",
       "      <th>Engine</th>\n",
       "      <th>Power</th>\n",
       "      <th>Seats</th>\n",
       "      <th>Price</th>\n",
       "      <th>no_of_cars1</th>\n",
       "    </tr>\n",
       "  </thead>\n",
       "  <tbody>\n",
       "    <tr>\n",
       "      <th>340</th>\n",
       "      <td>Skoda Octavia Ambition Plus 2.0 TDI AT</td>\n",
       "      <td>Skoda</td>\n",
       "      <td>Octavia</td>\n",
       "      <td>Ambition Plus 2.0 TDI AT</td>\n",
       "      <td>Kolkata</td>\n",
       "      <td>2013</td>\n",
       "      <td>775000</td>\n",
       "      <td>Diesel</td>\n",
       "      <td>Automatic</td>\n",
       "      <td>First</td>\n",
       "      <td>19.3 kmpl</td>\n",
       "      <td>1968 CC</td>\n",
       "      <td>141 bhp</td>\n",
       "      <td>5.0</td>\n",
       "      <td>7.5</td>\n",
       "      <td>1</td>\n",
       "    </tr>\n",
       "    <tr>\n",
       "      <th>358</th>\n",
       "      <td>Hyundai i10 Magna 1.2</td>\n",
       "      <td>Hyundai</td>\n",
       "      <td>i10</td>\n",
       "      <td>Magna 1.2</td>\n",
       "      <td>Chennai</td>\n",
       "      <td>2009</td>\n",
       "      <td>620000</td>\n",
       "      <td>Petrol</td>\n",
       "      <td>Manual</td>\n",
       "      <td>First</td>\n",
       "      <td>20.36 kmpl</td>\n",
       "      <td>1197 CC</td>\n",
       "      <td>78.9 bhp</td>\n",
       "      <td>5.0</td>\n",
       "      <td>2.7</td>\n",
       "      <td>1</td>\n",
       "    </tr>\n",
       "    <tr>\n",
       "      <th>1860</th>\n",
       "      <td>Volkswagen Vento Diesel Highline</td>\n",
       "      <td>Volkswagen</td>\n",
       "      <td>Vento</td>\n",
       "      <td>Diesel Highline</td>\n",
       "      <td>Chennai</td>\n",
       "      <td>2013</td>\n",
       "      <td>720000</td>\n",
       "      <td>Diesel</td>\n",
       "      <td>Manual</td>\n",
       "      <td>First</td>\n",
       "      <td>20.54 kmpl</td>\n",
       "      <td>1598 CC</td>\n",
       "      <td>103.6 bhp</td>\n",
       "      <td>5.0</td>\n",
       "      <td>5.9</td>\n",
       "      <td>1</td>\n",
       "    </tr>\n",
       "    <tr>\n",
       "      <th>2328</th>\n",
       "      <td>BMW X5 xDrive 30d M Sport</td>\n",
       "      <td>BMW</td>\n",
       "      <td>X5</td>\n",
       "      <td>xDrive 30d M Sport</td>\n",
       "      <td>Chennai</td>\n",
       "      <td>2017</td>\n",
       "      <td>6500000</td>\n",
       "      <td>Diesel</td>\n",
       "      <td>Automatic</td>\n",
       "      <td>First</td>\n",
       "      <td>15.97 kmpl</td>\n",
       "      <td>2993 CC</td>\n",
       "      <td>258 bhp</td>\n",
       "      <td>5.0</td>\n",
       "      <td>65.0</td>\n",
       "      <td>1</td>\n",
       "    </tr>\n",
       "  </tbody>\n",
       "</table>\n",
       "</div>"
      ],
      "text/plain": [
       "                                        Name   Car_Brand Car_Model  \\\n",
       "340   Skoda Octavia Ambition Plus 2.0 TDI AT       Skoda   Octavia   \n",
       "358                    Hyundai i10 Magna 1.2     Hyundai       i10   \n",
       "1860        Volkswagen Vento Diesel Highline  Volkswagen     Vento   \n",
       "2328               BMW X5 xDrive 30d M Sport         BMW        X5   \n",
       "\n",
       "                   Car_Version Location  Year  Kilometers_Driven Fuel_Type  \\\n",
       "340   Ambition Plus 2.0 TDI AT  Kolkata  2013             775000    Diesel   \n",
       "358                  Magna 1.2  Chennai  2009             620000    Petrol   \n",
       "1860           Diesel Highline  Chennai  2013             720000    Diesel   \n",
       "2328        xDrive 30d M Sport  Chennai  2017            6500000    Diesel   \n",
       "\n",
       "     Transmission Owner_Type     Mileage   Engine      Power  Seats  Price  \\\n",
       "340     Automatic      First   19.3 kmpl  1968 CC    141 bhp    5.0    7.5   \n",
       "358        Manual      First  20.36 kmpl  1197 CC   78.9 bhp    5.0    2.7   \n",
       "1860       Manual      First  20.54 kmpl  1598 CC  103.6 bhp    5.0    5.9   \n",
       "2328    Automatic      First  15.97 kmpl  2993 CC    258 bhp    5.0   65.0   \n",
       "\n",
       "      no_of_cars1  \n",
       "340             1  \n",
       "358             1  \n",
       "1860            1  \n",
       "2328            1  "
      ]
     },
     "execution_count": 19,
     "metadata": {},
     "output_type": "execute_result"
    }
   ],
   "source": [
    "train[train['Kilometers_Driven']>600000]"
   ]
  },
  {
   "cell_type": "markdown",
   "metadata": {},
   "source": [
    "from the above graph and table, the number of cars that were driven greater than 650000 kiometers are less and those that were driven greater than 650000 kms doesn't tally with the data of same branded cars purchased in same year. "
   ]
  },
  {
   "cell_type": "code",
   "execution_count": 20,
   "metadata": {
    "scrolled": true
   },
   "outputs": [
    {
     "data": {
      "text/html": [
       "<div>\n",
       "<style scoped>\n",
       "    .dataframe tbody tr th:only-of-type {\n",
       "        vertical-align: middle;\n",
       "    }\n",
       "\n",
       "    .dataframe tbody tr th {\n",
       "        vertical-align: top;\n",
       "    }\n",
       "\n",
       "    .dataframe thead th {\n",
       "        text-align: right;\n",
       "    }\n",
       "</style>\n",
       "<table border=\"1\" class=\"dataframe\">\n",
       "  <thead>\n",
       "    <tr style=\"text-align: right;\">\n",
       "      <th></th>\n",
       "      <th>Name</th>\n",
       "      <th>Car_Brand</th>\n",
       "      <th>Car_Model</th>\n",
       "      <th>Car_Version</th>\n",
       "      <th>Location</th>\n",
       "      <th>Year</th>\n",
       "      <th>Kilometers_Driven</th>\n",
       "      <th>Fuel_Type</th>\n",
       "      <th>Transmission</th>\n",
       "      <th>Owner_Type</th>\n",
       "      <th>Mileage</th>\n",
       "      <th>Engine</th>\n",
       "      <th>Power</th>\n",
       "      <th>Seats</th>\n",
       "      <th>Price</th>\n",
       "      <th>no_of_cars1</th>\n",
       "    </tr>\n",
       "  </thead>\n",
       "  <tbody>\n",
       "    <tr>\n",
       "      <th>1361</th>\n",
       "      <td>Maruti Alto 800 2016-2019 VXI</td>\n",
       "      <td>Maruti</td>\n",
       "      <td>Alto</td>\n",
       "      <td>800 2016-2019 VXI</td>\n",
       "      <td>Mumbai</td>\n",
       "      <td>2019</td>\n",
       "      <td>171</td>\n",
       "      <td>Petrol</td>\n",
       "      <td>Manual</td>\n",
       "      <td>First</td>\n",
       "      <td>24.7 kmpl</td>\n",
       "      <td>796 CC</td>\n",
       "      <td>47.3 bhp</td>\n",
       "      <td>5.0</td>\n",
       "      <td>3.60</td>\n",
       "      <td>1</td>\n",
       "    </tr>\n",
       "    <tr>\n",
       "      <th>5606</th>\n",
       "      <td>Maruti Wagon R ZXI AMT 1.2</td>\n",
       "      <td>Maruti</td>\n",
       "      <td>Wagon</td>\n",
       "      <td>R ZXI AMT 1.2</td>\n",
       "      <td>Mumbai</td>\n",
       "      <td>2019</td>\n",
       "      <td>600</td>\n",
       "      <td>Petrol</td>\n",
       "      <td>Automatic</td>\n",
       "      <td>First</td>\n",
       "      <td>21.5 kmpl</td>\n",
       "      <td>1197 CC</td>\n",
       "      <td>81.80 bhp</td>\n",
       "      <td>5.0</td>\n",
       "      <td>6.25</td>\n",
       "      <td>1</td>\n",
       "    </tr>\n",
       "  </tbody>\n",
       "</table>\n",
       "</div>"
      ],
      "text/plain": [
       "                               Name Car_Brand Car_Model        Car_Version  \\\n",
       "1361  Maruti Alto 800 2016-2019 VXI    Maruti      Alto  800 2016-2019 VXI   \n",
       "5606     Maruti Wagon R ZXI AMT 1.2    Maruti     Wagon      R ZXI AMT 1.2   \n",
       "\n",
       "     Location  Year  Kilometers_Driven Fuel_Type Transmission Owner_Type  \\\n",
       "1361   Mumbai  2019                171    Petrol       Manual      First   \n",
       "5606   Mumbai  2019                600    Petrol    Automatic      First   \n",
       "\n",
       "        Mileage   Engine      Power  Seats  Price  no_of_cars1  \n",
       "1361  24.7 kmpl   796 CC   47.3 bhp    5.0   3.60            1  \n",
       "5606  21.5 kmpl  1197 CC  81.80 bhp    5.0   6.25            1  "
      ]
     },
     "execution_count": 20,
     "metadata": {},
     "output_type": "execute_result"
    }
   ],
   "source": [
    "train[train['Kilometers_Driven']<999]"
   ]
  },
  {
   "cell_type": "markdown",
   "metadata": {},
   "source": [
    "Relation between price and Kilometers driven:"
   ]
  },
  {
   "cell_type": "code",
   "execution_count": 21,
   "metadata": {},
   "outputs": [
    {
     "data": {
      "image/png": "[encoded data removed]",
      "text/plain": [
       "<Figure size 432x288 with 1 Axes>"
      ]
     },
     "metadata": {},
     "output_type": "display_data"
    }
   ],
   "source": [
    "fig=plt.figure()\n",
    "ax=fig.add_axes([0,0,3,3])\n",
    "ax.bar(train['Kilometers_Driven'],train['Price'],width=2.0,color='b')\n",
    "plt.title('Kilometers_Driven Vs Price')\n",
    "plt.show()"
   ]
  },
  {
   "cell_type": "markdown",
   "metadata": {},
   "source": [
    "As the kilometers driven by a car are increasing, the price of the car is decreasing."
   ]
  },
  {
   "cell_type": "code",
   "execution_count": 22,
   "metadata": {},
   "outputs": [
    {
     "data": {
      "text/plain": [
       "0         56\n",
       "1       3205\n",
       "2       2746\n",
       "3       3205\n",
       "4       3205\n",
       "        ... \n",
       "6014    3205\n",
       "6015    3205\n",
       "6016    3205\n",
       "6017    2746\n",
       "6018    3205\n",
       "Name: no_of_cars3, Length: 6019, dtype: int64"
      ]
     },
     "execution_count": 22,
     "metadata": {},
     "output_type": "execute_result"
    }
   ],
   "source": [
    "train['no_of_cars3']=train.groupby('Fuel_Type')['Fuel_Type'].transform('count')\n",
    "train['no_of_cars3']"
   ]
  },
  {
   "cell_type": "code",
   "execution_count": 23,
   "metadata": {},
   "outputs": [
    {
     "name": "stdout",
     "output_type": "stream",
     "text": [
      "['CNG' 'Diesel' 'Petrol' 'LPG' 'Electric']\n"
     ]
    },
    {
     "data": {
      "text/html": [
       "<div>\n",
       "<style scoped>\n",
       "    .dataframe tbody tr th:only-of-type {\n",
       "        vertical-align: middle;\n",
       "    }\n",
       "\n",
       "    .dataframe tbody tr th {\n",
       "        vertical-align: top;\n",
       "    }\n",
       "\n",
       "    .dataframe thead th {\n",
       "        text-align: right;\n",
       "    }\n",
       "</style>\n",
       "<table border=\"1\" class=\"dataframe\">\n",
       "  <thead>\n",
       "    <tr style=\"text-align: right;\">\n",
       "      <th></th>\n",
       "      <th>Name</th>\n",
       "      <th>Car_Brand</th>\n",
       "      <th>Car_Model</th>\n",
       "      <th>Car_Version</th>\n",
       "      <th>Location</th>\n",
       "      <th>Year</th>\n",
       "      <th>Kilometers_Driven</th>\n",
       "      <th>Fuel_Type</th>\n",
       "      <th>Transmission</th>\n",
       "      <th>Owner_Type</th>\n",
       "      <th>Mileage</th>\n",
       "      <th>Engine</th>\n",
       "      <th>Power</th>\n",
       "      <th>Seats</th>\n",
       "      <th>Price</th>\n",
       "      <th>no_of_cars1</th>\n",
       "      <th>no_of_cars3</th>\n",
       "    </tr>\n",
       "  </thead>\n",
       "  <tbody>\n",
       "    <tr>\n",
       "      <th>4446</th>\n",
       "      <td>Mahindra E Verito D4</td>\n",
       "      <td>Mahindra</td>\n",
       "      <td>E</td>\n",
       "      <td>Verito D4</td>\n",
       "      <td>Chennai</td>\n",
       "      <td>2016</td>\n",
       "      <td>50000</td>\n",
       "      <td>Electric</td>\n",
       "      <td>Automatic</td>\n",
       "      <td>First</td>\n",
       "      <td>NaN</td>\n",
       "      <td>72 CC</td>\n",
       "      <td>41 bhp</td>\n",
       "      <td>5.0</td>\n",
       "      <td>13.00</td>\n",
       "      <td>61</td>\n",
       "      <td>2</td>\n",
       "    </tr>\n",
       "    <tr>\n",
       "      <th>4904</th>\n",
       "      <td>Toyota Prius 2009-2016 Z4</td>\n",
       "      <td>Toyota</td>\n",
       "      <td>Prius</td>\n",
       "      <td>2009-2016 Z4</td>\n",
       "      <td>Mumbai</td>\n",
       "      <td>2011</td>\n",
       "      <td>44000</td>\n",
       "      <td>Electric</td>\n",
       "      <td>Automatic</td>\n",
       "      <td>First</td>\n",
       "      <td>NaN</td>\n",
       "      <td>1798 CC</td>\n",
       "      <td>73 bhp</td>\n",
       "      <td>5.0</td>\n",
       "      <td>12.75</td>\n",
       "      <td>20</td>\n",
       "      <td>2</td>\n",
       "    </tr>\n",
       "  </tbody>\n",
       "</table>\n",
       "</div>"
      ],
      "text/plain": [
       "                           Name Car_Brand Car_Model   Car_Version Location  \\\n",
       "4446       Mahindra E Verito D4  Mahindra         E     Verito D4  Chennai   \n",
       "4904  Toyota Prius 2009-2016 Z4    Toyota     Prius  2009-2016 Z4   Mumbai   \n",
       "\n",
       "      Year  Kilometers_Driven Fuel_Type Transmission Owner_Type Mileage  \\\n",
       "4446  2016              50000  Electric    Automatic      First     NaN   \n",
       "4904  2011              44000  Electric    Automatic      First     NaN   \n",
       "\n",
       "       Engine   Power  Seats  Price  no_of_cars1  no_of_cars3  \n",
       "4446    72 CC  41 bhp    5.0  13.00           61            2  \n",
       "4904  1798 CC  73 bhp    5.0  12.75           20            2  "
      ]
     },
     "execution_count": 23,
     "metadata": {},
     "output_type": "execute_result"
    }
   ],
   "source": [
    "print(train['Fuel_Type'].unique())\n",
    "train[train['no_of_cars3']==min(train['no_of_cars3'])]"
   ]
  },
  {
   "cell_type": "markdown",
   "metadata": {},
   "source": [
    "The number of cars having the fuel type as electric are low in number and have no information about mileage."
   ]
  },
  {
   "cell_type": "code",
   "execution_count": 24,
   "metadata": {
    "scrolled": true
   },
   "outputs": [
    {
     "data": {
      "text/html": [
       "<div>\n",
       "<style scoped>\n",
       "    .dataframe tbody tr th:only-of-type {\n",
       "        vertical-align: middle;\n",
       "    }\n",
       "\n",
       "    .dataframe tbody tr th {\n",
       "        vertical-align: top;\n",
       "    }\n",
       "\n",
       "    .dataframe thead th {\n",
       "        text-align: right;\n",
       "    }\n",
       "</style>\n",
       "<table border=\"1\" class=\"dataframe\">\n",
       "  <thead>\n",
       "    <tr style=\"text-align: right;\">\n",
       "      <th></th>\n",
       "      <th>Name</th>\n",
       "      <th>Car_Brand</th>\n",
       "      <th>Car_Model</th>\n",
       "      <th>Car_Version</th>\n",
       "      <th>Location</th>\n",
       "      <th>Year</th>\n",
       "      <th>Kilometers_Driven</th>\n",
       "      <th>Fuel_Type</th>\n",
       "      <th>Transmission</th>\n",
       "      <th>Owner_Type</th>\n",
       "      <th>Mileage</th>\n",
       "      <th>Engine</th>\n",
       "      <th>Power</th>\n",
       "      <th>Seats</th>\n",
       "      <th>Price</th>\n",
       "      <th>no_of_cars1</th>\n",
       "      <th>no_of_cars3</th>\n",
       "    </tr>\n",
       "  </thead>\n",
       "  <tbody>\n",
       "    <tr>\n",
       "      <th>4446</th>\n",
       "      <td>Mahindra E Verito D4</td>\n",
       "      <td>Mahindra</td>\n",
       "      <td>E</td>\n",
       "      <td>Verito D4</td>\n",
       "      <td>Chennai</td>\n",
       "      <td>2016</td>\n",
       "      <td>50000</td>\n",
       "      <td>Electric</td>\n",
       "      <td>Automatic</td>\n",
       "      <td>First</td>\n",
       "      <td>NaN</td>\n",
       "      <td>72 CC</td>\n",
       "      <td>41 bhp</td>\n",
       "      <td>5.0</td>\n",
       "      <td>13.00</td>\n",
       "      <td>61</td>\n",
       "      <td>2</td>\n",
       "    </tr>\n",
       "    <tr>\n",
       "      <th>4904</th>\n",
       "      <td>Toyota Prius 2009-2016 Z4</td>\n",
       "      <td>Toyota</td>\n",
       "      <td>Prius</td>\n",
       "      <td>2009-2016 Z4</td>\n",
       "      <td>Mumbai</td>\n",
       "      <td>2011</td>\n",
       "      <td>44000</td>\n",
       "      <td>Electric</td>\n",
       "      <td>Automatic</td>\n",
       "      <td>First</td>\n",
       "      <td>NaN</td>\n",
       "      <td>1798 CC</td>\n",
       "      <td>73 bhp</td>\n",
       "      <td>5.0</td>\n",
       "      <td>12.75</td>\n",
       "      <td>20</td>\n",
       "      <td>2</td>\n",
       "    </tr>\n",
       "  </tbody>\n",
       "</table>\n",
       "</div>"
      ],
      "text/plain": [
       "                           Name Car_Brand Car_Model   Car_Version Location  \\\n",
       "4446       Mahindra E Verito D4  Mahindra         E     Verito D4  Chennai   \n",
       "4904  Toyota Prius 2009-2016 Z4    Toyota     Prius  2009-2016 Z4   Mumbai   \n",
       "\n",
       "      Year  Kilometers_Driven Fuel_Type Transmission Owner_Type Mileage  \\\n",
       "4446  2016              50000  Electric    Automatic      First     NaN   \n",
       "4904  2011              44000  Electric    Automatic      First     NaN   \n",
       "\n",
       "       Engine   Power  Seats  Price  no_of_cars1  no_of_cars3  \n",
       "4446    72 CC  41 bhp    5.0  13.00           61            2  \n",
       "4904  1798 CC  73 bhp    5.0  12.75           20            2  "
      ]
     },
     "execution_count": 24,
     "metadata": {},
     "output_type": "execute_result"
    }
   ],
   "source": [
    "train[train['Fuel_Type']=='Electric']"
   ]
  },
  {
   "cell_type": "code",
   "execution_count": 25,
   "metadata": {},
   "outputs": [
    {
     "data": {
      "text/plain": [
       "0       1211\n",
       "1       1107\n",
       "2        608\n",
       "3       1211\n",
       "4        236\n",
       "        ... \n",
       "6014    1211\n",
       "6015    1107\n",
       "6016     272\n",
       "6017    1211\n",
       "6018     121\n",
       "Name: no_of_cars2, Length: 6019, dtype: int64"
      ]
     },
     "execution_count": 25,
     "metadata": {},
     "output_type": "execute_result"
    }
   ],
   "source": [
    "train['no_of_cars2']=train.groupby('Car_Brand')['Car_Brand'].transform('count')\n",
    "train['no_of_cars2']"
   ]
  },
  {
   "cell_type": "code",
   "execution_count": 26,
   "metadata": {},
   "outputs": [
    {
     "data": {
      "text/plain": [
       "1"
      ]
     },
     "execution_count": 26,
     "metadata": {},
     "output_type": "execute_result"
    }
   ],
   "source": [
    "min(train['no_of_cars2'])"
   ]
  },
  {
   "cell_type": "code",
   "execution_count": 27,
   "metadata": {},
   "outputs": [
    {
     "data": {
      "image/png": "[encoded data removed]",
      "text/plain": [
       "<Figure size 432x288 with 1 Axes>"
      ]
     },
     "metadata": {},
     "output_type": "display_data"
    }
   ],
   "source": [
    "fig=plt.figure()\n",
    "ax=fig.add_axes([0,0,3,3])\n",
    "ax.bar(train['Car_Brand'],train['no_of_cars2'],width=0.5,color='b')\n",
    "plt.title('Car_Brand Vs Number of cars:')\n",
    "plt.show()"
   ]
  },
  {
   "cell_type": "code",
   "execution_count": 28,
   "metadata": {},
   "outputs": [
    {
     "data": {
      "text/html": [
       "<div>\n",
       "<style scoped>\n",
       "    .dataframe tbody tr th:only-of-type {\n",
       "        vertical-align: middle;\n",
       "    }\n",
       "\n",
       "    .dataframe tbody tr th {\n",
       "        vertical-align: top;\n",
       "    }\n",
       "\n",
       "    .dataframe thead th {\n",
       "        text-align: right;\n",
       "    }\n",
       "</style>\n",
       "<table border=\"1\" class=\"dataframe\">\n",
       "  <thead>\n",
       "    <tr style=\"text-align: right;\">\n",
       "      <th></th>\n",
       "      <th>Name</th>\n",
       "      <th>Car_Brand</th>\n",
       "      <th>Car_Model</th>\n",
       "      <th>Car_Version</th>\n",
       "      <th>Location</th>\n",
       "      <th>Year</th>\n",
       "      <th>Kilometers_Driven</th>\n",
       "      <th>Fuel_Type</th>\n",
       "      <th>Transmission</th>\n",
       "      <th>Owner_Type</th>\n",
       "      <th>Mileage</th>\n",
       "      <th>Engine</th>\n",
       "      <th>Power</th>\n",
       "      <th>Seats</th>\n",
       "      <th>Price</th>\n",
       "      <th>no_of_cars1</th>\n",
       "      <th>no_of_cars3</th>\n",
       "      <th>no_of_cars2</th>\n",
       "    </tr>\n",
       "  </thead>\n",
       "  <tbody>\n",
       "    <tr>\n",
       "      <th>5182</th>\n",
       "      <td>Force One LX ABS 7 Seating</td>\n",
       "      <td>Force</td>\n",
       "      <td>One</td>\n",
       "      <td>LX ABS 7 Seating</td>\n",
       "      <td>Kolkata</td>\n",
       "      <td>2014</td>\n",
       "      <td>41000</td>\n",
       "      <td>Diesel</td>\n",
       "      <td>Manual</td>\n",
       "      <td>First</td>\n",
       "      <td>17.0 kmpl</td>\n",
       "      <td>2149 CC</td>\n",
       "      <td>139.07 bhp</td>\n",
       "      <td>7.0</td>\n",
       "      <td>8.0</td>\n",
       "      <td>31</td>\n",
       "      <td>3205</td>\n",
       "      <td>3</td>\n",
       "    </tr>\n",
       "  </tbody>\n",
       "</table>\n",
       "</div>"
      ],
      "text/plain": [
       "                            Name Car_Brand Car_Model       Car_Version  \\\n",
       "5182  Force One LX ABS 7 Seating     Force       One  LX ABS 7 Seating   \n",
       "\n",
       "     Location  Year  Kilometers_Driven Fuel_Type Transmission Owner_Type  \\\n",
       "5182  Kolkata  2014              41000    Diesel       Manual      First   \n",
       "\n",
       "        Mileage   Engine       Power  Seats  Price  no_of_cars1  no_of_cars3  \\\n",
       "5182  17.0 kmpl  2149 CC  139.07 bhp    7.0    8.0           31         3205   \n",
       "\n",
       "      no_of_cars2  \n",
       "5182            3  "
      ]
     },
     "execution_count": 28,
     "metadata": {},
     "output_type": "execute_result"
    }
   ],
   "source": [
    "train[train['Name']==('Force One LX ABS 7 Seating')]\n"
   ]
  },
  {
   "cell_type": "code",
   "execution_count": 29,
   "metadata": {},
   "outputs": [
    {
     "data": {
      "text/html": [
       "<div>\n",
       "<style scoped>\n",
       "    .dataframe tbody tr th:only-of-type {\n",
       "        vertical-align: middle;\n",
       "    }\n",
       "\n",
       "    .dataframe tbody tr th {\n",
       "        vertical-align: top;\n",
       "    }\n",
       "\n",
       "    .dataframe thead th {\n",
       "        text-align: right;\n",
       "    }\n",
       "</style>\n",
       "<table border=\"1\" class=\"dataframe\">\n",
       "  <thead>\n",
       "    <tr style=\"text-align: right;\">\n",
       "      <th></th>\n",
       "      <th>Name</th>\n",
       "      <th>Car_Brand</th>\n",
       "      <th>Car_Model</th>\n",
       "      <th>Car_Version</th>\n",
       "      <th>Location</th>\n",
       "      <th>Year</th>\n",
       "      <th>Kilometers_Driven</th>\n",
       "      <th>Fuel_Type</th>\n",
       "      <th>Transmission</th>\n",
       "      <th>Owner_Type</th>\n",
       "      <th>Mileage</th>\n",
       "      <th>Engine</th>\n",
       "      <th>Power</th>\n",
       "      <th>Seats</th>\n",
       "      <th>Price</th>\n",
       "      <th>no_of_cars1</th>\n",
       "      <th>no_of_cars3</th>\n",
       "      <th>no_of_cars2</th>\n",
       "    </tr>\n",
       "  </thead>\n",
       "  <tbody>\n",
       "    <tr>\n",
       "      <th>915</th>\n",
       "      <td>Smart Fortwo CDI AT</td>\n",
       "      <td>Smart</td>\n",
       "      <td>Fortwo</td>\n",
       "      <td>CDI AT</td>\n",
       "      <td>Pune</td>\n",
       "      <td>2008</td>\n",
       "      <td>103000</td>\n",
       "      <td>Diesel</td>\n",
       "      <td>Automatic</td>\n",
       "      <td>Second</td>\n",
       "      <td>0.0 kmpl</td>\n",
       "      <td>799 CC</td>\n",
       "      <td>null bhp</td>\n",
       "      <td>2.0</td>\n",
       "      <td>3.0</td>\n",
       "      <td>5</td>\n",
       "      <td>3205</td>\n",
       "      <td>1</td>\n",
       "    </tr>\n",
       "  </tbody>\n",
       "</table>\n",
       "</div>"
      ],
      "text/plain": [
       "                    Name Car_Brand Car_Model Car_Version Location  Year  \\\n",
       "915  Smart Fortwo CDI AT     Smart    Fortwo      CDI AT     Pune  2008   \n",
       "\n",
       "     Kilometers_Driven Fuel_Type Transmission Owner_Type   Mileage  Engine  \\\n",
       "915             103000    Diesel    Automatic     Second  0.0 kmpl  799 CC   \n",
       "\n",
       "        Power  Seats  Price  no_of_cars1  no_of_cars3  no_of_cars2  \n",
       "915  null bhp    2.0    3.0            5         3205            1  "
      ]
     },
     "execution_count": 29,
     "metadata": {},
     "output_type": "execute_result"
    }
   ],
   "source": [
    "train[train['Name']==('Smart Fortwo CDI AT')]\n"
   ]
  },
  {
   "cell_type": "code",
   "execution_count": 30,
   "metadata": {},
   "outputs": [
    {
     "data": {
      "text/html": [
       "<div>\n",
       "<style scoped>\n",
       "    .dataframe tbody tr th:only-of-type {\n",
       "        vertical-align: middle;\n",
       "    }\n",
       "\n",
       "    .dataframe tbody tr th {\n",
       "        vertical-align: top;\n",
       "    }\n",
       "\n",
       "    .dataframe thead th {\n",
       "        text-align: right;\n",
       "    }\n",
       "</style>\n",
       "<table border=\"1\" class=\"dataframe\">\n",
       "  <thead>\n",
       "    <tr style=\"text-align: right;\">\n",
       "      <th></th>\n",
       "      <th>Name</th>\n",
       "      <th>Car_Brand</th>\n",
       "      <th>Car_Model</th>\n",
       "      <th>Car_Version</th>\n",
       "      <th>Location</th>\n",
       "      <th>Year</th>\n",
       "      <th>Kilometers_Driven</th>\n",
       "      <th>Fuel_Type</th>\n",
       "      <th>Transmission</th>\n",
       "      <th>Owner_Type</th>\n",
       "      <th>Mileage</th>\n",
       "      <th>Engine</th>\n",
       "      <th>Power</th>\n",
       "      <th>Seats</th>\n",
       "      <th>Price</th>\n",
       "      <th>no_of_cars1</th>\n",
       "      <th>no_of_cars3</th>\n",
       "      <th>no_of_cars2</th>\n",
       "    </tr>\n",
       "  </thead>\n",
       "  <tbody>\n",
       "    <tr>\n",
       "      <th>4997</th>\n",
       "      <td>Force One LX 4x4</td>\n",
       "      <td>Force</td>\n",
       "      <td>One</td>\n",
       "      <td>LX 4x4</td>\n",
       "      <td>Chennai</td>\n",
       "      <td>2014</td>\n",
       "      <td>50000</td>\n",
       "      <td>Diesel</td>\n",
       "      <td>Manual</td>\n",
       "      <td>First</td>\n",
       "      <td>17.0 kmpl</td>\n",
       "      <td>2200 CC</td>\n",
       "      <td>139.01 bhp</td>\n",
       "      <td>7.0</td>\n",
       "      <td>12.0</td>\n",
       "      <td>61</td>\n",
       "      <td>3205</td>\n",
       "      <td>3</td>\n",
       "    </tr>\n",
       "    <tr>\n",
       "      <th>5206</th>\n",
       "      <td>Force One LX 4x4</td>\n",
       "      <td>Force</td>\n",
       "      <td>One</td>\n",
       "      <td>LX 4x4</td>\n",
       "      <td>Kolkata</td>\n",
       "      <td>2014</td>\n",
       "      <td>41000</td>\n",
       "      <td>Diesel</td>\n",
       "      <td>Manual</td>\n",
       "      <td>First</td>\n",
       "      <td>17.0 kmpl</td>\n",
       "      <td>2200 CC</td>\n",
       "      <td>139.01 bhp</td>\n",
       "      <td>7.0</td>\n",
       "      <td>8.0</td>\n",
       "      <td>31</td>\n",
       "      <td>3205</td>\n",
       "      <td>3</td>\n",
       "    </tr>\n",
       "  </tbody>\n",
       "</table>\n",
       "</div>"
      ],
      "text/plain": [
       "                  Name Car_Brand Car_Model Car_Version Location  Year  \\\n",
       "4997  Force One LX 4x4     Force       One      LX 4x4  Chennai  2014   \n",
       "5206  Force One LX 4x4     Force       One      LX 4x4  Kolkata  2014   \n",
       "\n",
       "      Kilometers_Driven Fuel_Type Transmission Owner_Type    Mileage   Engine  \\\n",
       "4997              50000    Diesel       Manual      First  17.0 kmpl  2200 CC   \n",
       "5206              41000    Diesel       Manual      First  17.0 kmpl  2200 CC   \n",
       "\n",
       "           Power  Seats  Price  no_of_cars1  no_of_cars3  no_of_cars2  \n",
       "4997  139.01 bhp    7.0   12.0           61         3205            3  \n",
       "5206  139.01 bhp    7.0    8.0           31         3205            3  "
      ]
     },
     "execution_count": 30,
     "metadata": {},
     "output_type": "execute_result"
    }
   ],
   "source": [
    "train[train['Name']==('Force One LX 4x4')]\n"
   ]
  },
  {
   "cell_type": "code",
   "execution_count": 31,
   "metadata": {},
   "outputs": [
    {
     "data": {
      "text/html": [
       "<div>\n",
       "<style scoped>\n",
       "    .dataframe tbody tr th:only-of-type {\n",
       "        vertical-align: middle;\n",
       "    }\n",
       "\n",
       "    .dataframe tbody tr th {\n",
       "        vertical-align: top;\n",
       "    }\n",
       "\n",
       "    .dataframe thead th {\n",
       "        text-align: right;\n",
       "    }\n",
       "</style>\n",
       "<table border=\"1\" class=\"dataframe\">\n",
       "  <thead>\n",
       "    <tr style=\"text-align: right;\">\n",
       "      <th></th>\n",
       "      <th>Name</th>\n",
       "      <th>Car_Brand</th>\n",
       "      <th>Car_Model</th>\n",
       "      <th>Car_Version</th>\n",
       "      <th>Location</th>\n",
       "      <th>Year</th>\n",
       "      <th>Kilometers_Driven</th>\n",
       "      <th>Fuel_Type</th>\n",
       "      <th>Transmission</th>\n",
       "      <th>Owner_Type</th>\n",
       "      <th>Mileage</th>\n",
       "      <th>Engine</th>\n",
       "      <th>Power</th>\n",
       "      <th>Seats</th>\n",
       "      <th>Price</th>\n",
       "      <th>no_of_cars1</th>\n",
       "      <th>no_of_cars3</th>\n",
       "      <th>no_of_cars2</th>\n",
       "    </tr>\n",
       "  </thead>\n",
       "  <tbody>\n",
       "    <tr>\n",
       "      <th>5781</th>\n",
       "      <td>Lamborghini Gallardo Coupe</td>\n",
       "      <td>Lamborghini</td>\n",
       "      <td>Gallardo</td>\n",
       "      <td>Coupe</td>\n",
       "      <td>Delhi</td>\n",
       "      <td>2011</td>\n",
       "      <td>6500</td>\n",
       "      <td>Petrol</td>\n",
       "      <td>Automatic</td>\n",
       "      <td>Third</td>\n",
       "      <td>6.4 kmpl</td>\n",
       "      <td>5204 CC</td>\n",
       "      <td>560 bhp</td>\n",
       "      <td>2.0</td>\n",
       "      <td>120.0</td>\n",
       "      <td>1</td>\n",
       "      <td>2746</td>\n",
       "      <td>1</td>\n",
       "    </tr>\n",
       "  </tbody>\n",
       "</table>\n",
       "</div>"
      ],
      "text/plain": [
       "                            Name    Car_Brand Car_Model Car_Version Location  \\\n",
       "5781  Lamborghini Gallardo Coupe  Lamborghini  Gallardo       Coupe    Delhi   \n",
       "\n",
       "      Year  Kilometers_Driven Fuel_Type Transmission Owner_Type   Mileage  \\\n",
       "5781  2011               6500    Petrol    Automatic      Third  6.4 kmpl   \n",
       "\n",
       "       Engine    Power  Seats  Price  no_of_cars1  no_of_cars3  no_of_cars2  \n",
       "5781  5204 CC  560 bhp    2.0  120.0            1         2746            1  "
      ]
     },
     "execution_count": 31,
     "metadata": {},
     "output_type": "execute_result"
    }
   ],
   "source": [
    "train[train['Name']==('Lamborghini Gallardo Coupe')]\n"
   ]
  },
  {
   "cell_type": "code",
   "execution_count": 32,
   "metadata": {},
   "outputs": [
    {
     "data": {
      "text/html": [
       "<div>\n",
       "<style scoped>\n",
       "    .dataframe tbody tr th:only-of-type {\n",
       "        vertical-align: middle;\n",
       "    }\n",
       "\n",
       "    .dataframe tbody tr th {\n",
       "        vertical-align: top;\n",
       "    }\n",
       "\n",
       "    .dataframe thead th {\n",
       "        text-align: right;\n",
       "    }\n",
       "</style>\n",
       "<table border=\"1\" class=\"dataframe\">\n",
       "  <thead>\n",
       "    <tr style=\"text-align: right;\">\n",
       "      <th></th>\n",
       "      <th>Name</th>\n",
       "      <th>Car_Brand</th>\n",
       "      <th>Car_Model</th>\n",
       "      <th>Car_Version</th>\n",
       "      <th>Location</th>\n",
       "      <th>Year</th>\n",
       "      <th>Kilometers_Driven</th>\n",
       "      <th>Fuel_Type</th>\n",
       "      <th>Transmission</th>\n",
       "      <th>Owner_Type</th>\n",
       "      <th>Mileage</th>\n",
       "      <th>Engine</th>\n",
       "      <th>Power</th>\n",
       "      <th>Seats</th>\n",
       "      <th>Price</th>\n",
       "      <th>no_of_cars1</th>\n",
       "      <th>no_of_cars3</th>\n",
       "      <th>no_of_cars2</th>\n",
       "    </tr>\n",
       "  </thead>\n",
       "  <tbody>\n",
       "    <tr>\n",
       "      <th>1221</th>\n",
       "      <td>Ambassador Classic Nova Diesel</td>\n",
       "      <td>Ambassador</td>\n",
       "      <td>Classic</td>\n",
       "      <td>Nova Diesel</td>\n",
       "      <td>Chennai</td>\n",
       "      <td>2003</td>\n",
       "      <td>80000</td>\n",
       "      <td>Diesel</td>\n",
       "      <td>Manual</td>\n",
       "      <td>Third</td>\n",
       "      <td>12.8 kmpl</td>\n",
       "      <td>1489 CC</td>\n",
       "      <td>35.5 bhp</td>\n",
       "      <td>5.0</td>\n",
       "      <td>1.35</td>\n",
       "      <td>50</td>\n",
       "      <td>3205</td>\n",
       "      <td>1</td>\n",
       "    </tr>\n",
       "  </tbody>\n",
       "</table>\n",
       "</div>"
      ],
      "text/plain": [
       "                                Name   Car_Brand Car_Model  Car_Version  \\\n",
       "1221  Ambassador Classic Nova Diesel  Ambassador   Classic  Nova Diesel   \n",
       "\n",
       "     Location  Year  Kilometers_Driven Fuel_Type Transmission Owner_Type  \\\n",
       "1221  Chennai  2003              80000    Diesel       Manual      Third   \n",
       "\n",
       "        Mileage   Engine     Power  Seats  Price  no_of_cars1  no_of_cars3  \\\n",
       "1221  12.8 kmpl  1489 CC  35.5 bhp    5.0   1.35           50         3205   \n",
       "\n",
       "      no_of_cars2  \n",
       "1221            1  "
      ]
     },
     "execution_count": 32,
     "metadata": {},
     "output_type": "execute_result"
    }
   ],
   "source": [
    "train[train['Name']==('Ambassador Classic Nova Diesel')]"
   ]
  },
  {
   "cell_type": "code",
   "execution_count": 33,
   "metadata": {},
   "outputs": [
    {
     "data": {
      "image/png": "[encoded data removed]",
      "text/plain": [
       "<Figure size 432x288 with 1 Axes>"
      ]
     },
     "metadata": {},
     "output_type": "display_data"
    }
   ],
   "source": [
    "fig=plt.figure()\n",
    "ax=fig.add_axes([0,0,3,3])\n",
    "ax.bar(train['Car_Brand'],train['Price'],width=0.5,color='b')\n",
    "plt.title('Car_Brand Vs Price:')\n",
    "plt.show()"
   ]
  },
  {
   "cell_type": "markdown",
   "metadata": {},
   "source": [
    "The number of cars and the price of depends on brand of the car and also the model of the car. The brand that is most availiable(more number of cars) has less price compared to that having less cars availiable."
   ]
  },
  {
   "cell_type": "code",
   "execution_count": 34,
   "metadata": {},
   "outputs": [],
   "source": [
    "train['Car_Age']=2020-train['Year']"
   ]
  },
  {
   "cell_type": "code",
   "execution_count": 35,
   "metadata": {},
   "outputs": [
    {
     "data": {
      "image/png": "[encoded data removed]",
      "text/plain": [
       "<Figure size 432x288 with 1 Axes>"
      ]
     },
     "metadata": {},
     "output_type": "display_data"
    }
   ],
   "source": [
    "fig=plt.figure()\n",
    "ax=fig.add_axes([0,0,3,3])\n",
    "ax.bar(train['Car_Age'],train['Price'],width=0.5,color='b')\n",
    "plt.title('Car_Age Vs Price')\n",
    "plt.show()"
   ]
  },
  {
   "cell_type": "markdown",
   "metadata": {},
   "source": [
    "The year of manufacture of a car affects its price, the older the car lesser the price."
   ]
  },
  {
   "cell_type": "code",
   "execution_count": 36,
   "metadata": {},
   "outputs": [
    {
     "data": {
      "image/png": "[encoded data removed]",
      "text/plain": [
       "<Figure size 432x288 with 1 Axes>"
      ]
     },
     "metadata": {},
     "output_type": "display_data"
    }
   ],
   "source": [
    "train['Power1'] = train['Power'].replace('null bhp','0 bhp').apply(lambda x : str(x).split(' ')[0]).astype(float)\n",
    "fig=plt.figure()\n",
    "ax=fig.add_axes([0,0,3,3])\n",
    "ax.bar(train['Power1'],train['Price'],width=1.0,color='b')\n",
    "plt.title('Power Vs Price:')\n",
    "plt.show()"
   ]
  },
  {
   "cell_type": "markdown",
   "metadata": {},
   "source": [
    "Finding number of cars in a location"
   ]
  },
  {
   "cell_type": "code",
   "execution_count": 37,
   "metadata": {
    "scrolled": true
   },
   "outputs": [
    {
     "data": {
      "text/plain": [
       "0       790\n",
       "1       622\n",
       "2       494\n",
       "3       494\n",
       "4       636\n",
       "       ... \n",
       "6014    554\n",
       "6015    413\n",
       "6016    413\n",
       "6017    535\n",
       "6018    742\n",
       "Name: no_of_cars4, Length: 6019, dtype: int64"
      ]
     },
     "execution_count": 37,
     "metadata": {},
     "output_type": "execute_result"
    }
   ],
   "source": [
    "train['no_of_cars4']=train.groupby('Location')['Location'].transform('count')\n",
    "train['no_of_cars4']"
   ]
  },
  {
   "cell_type": "code",
   "execution_count": 38,
   "metadata": {},
   "outputs": [
    {
     "data": {
      "image/png": "[encoded data removed]",
      "text/plain": [
       "<Figure size 432x288 with 1 Axes>"
      ]
     },
     "metadata": {},
     "output_type": "display_data"
    }
   ],
   "source": [
    "fig=plt.figure()\n",
    "ax=fig.add_axes([0,0,2,1])\n",
    "ax.bar(train['Location'],train['no_of_cars4'],width=0.5,color='b')\n",
    "plt.title('Location vs no_of_cars')\n",
    "plt.show()"
   ]
  },
  {
   "cell_type": "code",
   "execution_count": 39,
   "metadata": {
    "scrolled": false
   },
   "outputs": [
    {
     "data": {
      "image/png": "[encoded data removed]",
      "text/plain": [
       "<Figure size 432x288 with 1 Axes>"
      ]
     },
     "metadata": {},
     "output_type": "display_data"
    }
   ],
   "source": [
    "fig=plt.figure()\n",
    "ax=fig.add_axes([0,0,2,1])\n",
    "ax.bar(train['Location'],train['Price'],width=0.5,color='b')\n",
    "plt.title('Location Vs Price:')\n",
    "plt.show()"
   ]
  },
  {
   "cell_type": "markdown",
   "metadata": {},
   "source": [
    "The location where a car is purchased affects the price of car but also depends on the brand,model of car and other factors also."
   ]
  },
  {
   "cell_type": "code",
   "execution_count": 40,
   "metadata": {},
   "outputs": [
    {
     "data": {
      "image/png": "[encoded data removed]",
      "text/plain": [
       "<Figure size 432x288 with 1 Axes>"
      ]
     },
     "metadata": {},
     "output_type": "display_data"
    }
   ],
   "source": [
    "fig=plt.figure()\n",
    "ax=fig.add_axes([0,0,1,1])\n",
    "ax.bar(train['Seats'],train['Price'],width=0.5,color='b')\n",
    "plt.title('Seats Vs Price:')\n",
    "plt.show()"
   ]
  },
  {
   "cell_type": "code",
   "execution_count": 41,
   "metadata": {},
   "outputs": [
    {
     "data": {
      "image/png": "[encoded data removed]",
      "text/plain": [
       "<Figure size 432x288 with 1 Axes>"
      ]
     },
     "metadata": {},
     "output_type": "display_data"
    }
   ],
   "source": [
    "train['Engine'] = train['Engine'].apply(lambda x : str(x).split(\" \")[0]).astype(float)\n",
    "train['Engine1'] = train.groupby(['Car_Brand']).transform(lambda x: x.fillna(x.mean()))['Engine']\n",
    "fig=plt.figure()\n",
    "ax=fig.add_axes([0,0,2,2])\n",
    "ax.bar(train['Engine1'],train['Price'],width=0.5,color='b')\n",
    "plt.title('Engine Vs Price:')\n",
    "plt.show()"
   ]
  },
  {
   "cell_type": "markdown",
   "metadata": {},
   "source": [
    "The price of a car depends on the engine capacity and also on the brand, model of the car also on other factors like place of purchase, year of purchase,..."
   ]
  },
  {
   "cell_type": "code",
   "execution_count": 42,
   "metadata": {
    "scrolled": true
   },
   "outputs": [
    {
     "name": "stdout",
     "output_type": "stream",
     "text": [
      "72.0 5998.0\n"
     ]
    }
   ],
   "source": [
    "print(min(train['Engine1']),max(train['Engine1']))"
   ]
  },
  {
   "cell_type": "code",
   "execution_count": 43,
   "metadata": {
    "scrolled": true
   },
   "outputs": [
    {
     "data": {
      "image/png": "[encoded data removed]",
      "text/plain": [
       "<Figure size 432x288 with 1 Axes>"
      ]
     },
     "metadata": {},
     "output_type": "display_data"
    }
   ],
   "source": [
    "fig=plt.figure()\n",
    "ax=fig.add_axes([0,0,1,1])\n",
    "ax.bar(train['Owner_Type'],train['Price'],width=0.5,color='b')\n",
    "plt.title('Owner_Type vs Price')\n",
    "plt.show()"
   ]
  },
  {
   "cell_type": "markdown",
   "metadata": {},
   "source": [
    "The price of a used car depends on the type of the owner, if the owner type is first it means the car is being sold as a second hand car,second for third hand car and so on."
   ]
  },
  {
   "cell_type": "markdown",
   "metadata": {},
   "source": [
    "Data Preprocessing:"
   ]
  },
  {
   "cell_type": "code",
   "execution_count": 44,
   "metadata": {},
   "outputs": [
    {
     "data": {
      "text/plain": [
       "6012"
      ]
     },
     "execution_count": 44,
     "metadata": {},
     "output_type": "execute_result"
    }
   ],
   "source": [
    "train=train[train['Kilometers_Driven']<650000]\n",
    "train=train[train['Kilometers_Driven']>999]\n",
    "train=train[train['Fuel_Type']!='Electric']\n",
    "\n",
    "len(train)"
   ]
  },
  {
   "cell_type": "code",
   "execution_count": 45,
   "metadata": {},
   "outputs": [
    {
     "data": {
      "text/plain": [
       "6006"
      ]
     },
     "execution_count": 45,
     "metadata": {},
     "output_type": "execute_result"
    }
   ],
   "source": [
    "train = train[train['Name'] != 'Ambassador Classic Nova Diesel']\n",
    "train = train[train['Name'] != 'Lamborghini Gallardo Coupe']\n",
    "train = train[train['Name'] != 'Force One LX 4x4']\n",
    "train = train[train['Name'] != 'Force One LX ABS 7 Seating']\n",
    "train = train[train['Name'] != 'Smart Fortwo CDI AT']\n",
    "len(train)"
   ]
  },
  {
   "cell_type": "code",
   "execution_count": 46,
   "metadata": {},
   "outputs": [],
   "source": [
    "train.drop(['no_of_cars1','no_of_cars2','no_of_cars3','no_of_cars4','Engine1','Power1'],axis=1,inplace=True)\n"
   ]
  },
  {
   "cell_type": "code",
   "execution_count": 47,
   "metadata": {},
   "outputs": [],
   "source": [
    "data=train.append(test,ignore_index=True,sort=False)"
   ]
  },
  {
   "cell_type": "code",
   "execution_count": 48,
   "metadata": {},
   "outputs": [
    {
     "data": {
      "text/html": [
       "<div>\n",
       "<style scoped>\n",
       "    .dataframe tbody tr th:only-of-type {\n",
       "        vertical-align: middle;\n",
       "    }\n",
       "\n",
       "    .dataframe tbody tr th {\n",
       "        vertical-align: top;\n",
       "    }\n",
       "\n",
       "    .dataframe thead th {\n",
       "        text-align: right;\n",
       "    }\n",
       "</style>\n",
       "<table border=\"1\" class=\"dataframe\">\n",
       "  <thead>\n",
       "    <tr style=\"text-align: right;\">\n",
       "      <th></th>\n",
       "      <th>Name</th>\n",
       "      <th>Car_Brand</th>\n",
       "      <th>Car_Model</th>\n",
       "      <th>Car_Version</th>\n",
       "      <th>Location</th>\n",
       "      <th>Year</th>\n",
       "      <th>Kilometers_Driven</th>\n",
       "      <th>Fuel_Type</th>\n",
       "      <th>Transmission</th>\n",
       "      <th>Owner_Type</th>\n",
       "      <th>Mileage</th>\n",
       "      <th>Engine</th>\n",
       "      <th>Power</th>\n",
       "      <th>Seats</th>\n",
       "      <th>Price</th>\n",
       "      <th>Car_Age</th>\n",
       "    </tr>\n",
       "  </thead>\n",
       "  <tbody>\n",
       "    <tr>\n",
       "      <th>0</th>\n",
       "      <td>Maruti Wagon R LXI CNG</td>\n",
       "      <td>Maruti</td>\n",
       "      <td>Wagon</td>\n",
       "      <td>R LXI CNG</td>\n",
       "      <td>Mumbai</td>\n",
       "      <td>2010</td>\n",
       "      <td>72000</td>\n",
       "      <td>CNG</td>\n",
       "      <td>Manual</td>\n",
       "      <td>First</td>\n",
       "      <td>26.6 km/kg</td>\n",
       "      <td>998</td>\n",
       "      <td>58.16 bhp</td>\n",
       "      <td>5.0</td>\n",
       "      <td>1.75</td>\n",
       "      <td>10.0</td>\n",
       "    </tr>\n",
       "    <tr>\n",
       "      <th>1</th>\n",
       "      <td>Hyundai Creta 1.6 CRDi SX Option</td>\n",
       "      <td>Hyundai</td>\n",
       "      <td>Creta</td>\n",
       "      <td>1.6 CRDi SX Option</td>\n",
       "      <td>Pune</td>\n",
       "      <td>2015</td>\n",
       "      <td>41000</td>\n",
       "      <td>Diesel</td>\n",
       "      <td>Manual</td>\n",
       "      <td>First</td>\n",
       "      <td>19.67 kmpl</td>\n",
       "      <td>1582</td>\n",
       "      <td>126.2 bhp</td>\n",
       "      <td>5.0</td>\n",
       "      <td>12.50</td>\n",
       "      <td>5.0</td>\n",
       "    </tr>\n",
       "    <tr>\n",
       "      <th>2</th>\n",
       "      <td>Honda Jazz V</td>\n",
       "      <td>Honda</td>\n",
       "      <td>Jazz</td>\n",
       "      <td>V</td>\n",
       "      <td>Chennai</td>\n",
       "      <td>2011</td>\n",
       "      <td>46000</td>\n",
       "      <td>Petrol</td>\n",
       "      <td>Manual</td>\n",
       "      <td>First</td>\n",
       "      <td>18.2 kmpl</td>\n",
       "      <td>1199</td>\n",
       "      <td>88.7 bhp</td>\n",
       "      <td>5.0</td>\n",
       "      <td>4.50</td>\n",
       "      <td>9.0</td>\n",
       "    </tr>\n",
       "    <tr>\n",
       "      <th>3</th>\n",
       "      <td>Maruti Ertiga VDI</td>\n",
       "      <td>Maruti</td>\n",
       "      <td>Ertiga</td>\n",
       "      <td>VDI</td>\n",
       "      <td>Chennai</td>\n",
       "      <td>2012</td>\n",
       "      <td>87000</td>\n",
       "      <td>Diesel</td>\n",
       "      <td>Manual</td>\n",
       "      <td>First</td>\n",
       "      <td>20.77 kmpl</td>\n",
       "      <td>1248</td>\n",
       "      <td>88.76 bhp</td>\n",
       "      <td>7.0</td>\n",
       "      <td>6.00</td>\n",
       "      <td>8.0</td>\n",
       "    </tr>\n",
       "  </tbody>\n",
       "</table>\n",
       "</div>"
      ],
      "text/plain": [
       "                               Name Car_Brand Car_Model         Car_Version  \\\n",
       "0            Maruti Wagon R LXI CNG    Maruti     Wagon           R LXI CNG   \n",
       "1  Hyundai Creta 1.6 CRDi SX Option   Hyundai     Creta  1.6 CRDi SX Option   \n",
       "2                      Honda Jazz V     Honda      Jazz                   V   \n",
       "3                 Maruti Ertiga VDI    Maruti    Ertiga                 VDI   \n",
       "\n",
       "  Location  Year  Kilometers_Driven Fuel_Type Transmission Owner_Type  \\\n",
       "0   Mumbai  2010              72000       CNG       Manual      First   \n",
       "1     Pune  2015              41000    Diesel       Manual      First   \n",
       "2  Chennai  2011              46000    Petrol       Manual      First   \n",
       "3  Chennai  2012              87000    Diesel       Manual      First   \n",
       "\n",
       "      Mileage Engine      Power  Seats  Price  Car_Age  \n",
       "0  26.6 km/kg    998  58.16 bhp    5.0   1.75     10.0  \n",
       "1  19.67 kmpl   1582  126.2 bhp    5.0  12.50      5.0  \n",
       "2   18.2 kmpl   1199   88.7 bhp    5.0   4.50      9.0  \n",
       "3  20.77 kmpl   1248  88.76 bhp    7.0   6.00      8.0  "
      ]
     },
     "execution_count": 48,
     "metadata": {},
     "output_type": "execute_result"
    }
   ],
   "source": [
    "data.head(4)"
   ]
  },
  {
   "cell_type": "code",
   "execution_count": 49,
   "metadata": {},
   "outputs": [],
   "source": [
    "data['Car_Age']=2020-data['Year']\n",
    "data['Mileage'] = data['Mileage'].apply(lambda x : str(x).split(' ')[0]).astype(float)\n",
    "data['Engine'] = data['Engine'].apply(lambda x : str(x).split(\" \")[0]).astype(float)\n",
    "data['Power'] = data['Power'].replace('null bhp','0 bhp').apply(lambda x : str(x).split(' ')[0]).astype(float)\n",
    "data['Seats'] = data['Seats'].fillna(5)\n",
    "data['Year'] = data['Year'].astype('category')\n",
    "data['Location'] = data['Location'].astype('category')\n",
    "data['Fuel_Type'] = data['Fuel_Type'].astype('category')\n",
    "data['Transmission'] = data['Transmission'].astype('category')\n",
    "data['Owner_Type'] = data['Owner_Type'].astype('category')"
   ]
  },
  {
   "cell_type": "code",
   "execution_count": 50,
   "metadata": {},
   "outputs": [
    {
     "data": {
      "text/plain": [
       "Name                    0\n",
       "Car_Brand               0\n",
       "Car_Model               0\n",
       "Car_Version             0\n",
       "Location                0\n",
       "Year                    0\n",
       "Kilometers_Driven       0\n",
       "Fuel_Type               0\n",
       "Transmission            0\n",
       "Owner_Type              0\n",
       "Mileage                 0\n",
       "Engine                 46\n",
       "Power                  46\n",
       "Seats                   0\n",
       "Price                1234\n",
       "Car_Age                 0\n",
       "dtype: int64"
      ]
     },
     "execution_count": 50,
     "metadata": {},
     "output_type": "execute_result"
    }
   ],
   "source": [
    "data.isnull().sum()"
   ]
  },
  {
   "cell_type": "code",
   "execution_count": 51,
   "metadata": {},
   "outputs": [],
   "source": [
    "data.insert(1,'Car_Brand1',True)"
   ]
  },
  {
   "cell_type": "code",
   "execution_count": 52,
   "metadata": {},
   "outputs": [],
   "source": [
    "data['Car_Brand1'] = data['Name'].apply(lambda x: ' '.join(x.split(' ')[:2]))\n",
    "\n",
    "data['Engine'] = data.groupby(['Car_Brand1']).transform(lambda x: x.fillna(x.mean()))['Engine']\n",
    "data['Power'] = data.groupby(['Car_Brand1']).transform(lambda x: x.fillna(x.mean()))['Power']"
   ]
  },
  {
   "cell_type": "code",
   "execution_count": 53,
   "metadata": {},
   "outputs": [
    {
     "data": {
      "text/plain": [
       "0                Maruti Wagon\n",
       "1               Hyundai Creta\n",
       "2                  Honda Jazz\n",
       "3               Maruti Ertiga\n",
       "4                     Audi A4\n",
       "                ...          \n",
       "7235         Volkswagen Vento\n",
       "7236          Volkswagen Polo\n",
       "7237             Nissan Micra\n",
       "7238          Volkswagen Polo\n",
       "7239    Mercedes-Benz E-Class\n",
       "Name: Car_Brand1, Length: 7240, dtype: object"
      ]
     },
     "execution_count": 53,
     "metadata": {},
     "output_type": "execute_result"
    }
   ],
   "source": [
    "data['Car_Brand1']"
   ]
  },
  {
   "cell_type": "code",
   "execution_count": 54,
   "metadata": {},
   "outputs": [
    {
     "data": {
      "text/plain": [
       "Name                    0\n",
       "Car_Brand1              0\n",
       "Car_Brand               0\n",
       "Car_Model               0\n",
       "Car_Version             0\n",
       "Location                0\n",
       "Year                    0\n",
       "Kilometers_Driven       0\n",
       "Fuel_Type               0\n",
       "Transmission            0\n",
       "Owner_Type              0\n",
       "Mileage                 0\n",
       "Engine                  0\n",
       "Power                   0\n",
       "Seats                   0\n",
       "Price                1234\n",
       "Car_Age                 0\n",
       "dtype: int64"
      ]
     },
     "execution_count": 54,
     "metadata": {},
     "output_type": "execute_result"
    }
   ],
   "source": [
    "data.isnull().sum()"
   ]
  },
  {
   "cell_type": "code",
   "execution_count": 55,
   "metadata": {},
   "outputs": [],
   "source": [
    "def aggregate_functions(data):        \n",
    "    \n",
    "    agg_func = {\n",
    "        'Location' : ['count'],\n",
    "        'Mileage' : ['mean'],\n",
    "        'Power' : ['mean'],\n",
    "        'Engine' : ['mean'] }\n",
    "    \n",
    "    agg_data = data.groupby(['Car_Brand1']).agg(agg_func)\n",
    "    agg_data.columns = ['_'.join(col).strip() for col in agg_data.columns.values]\n",
    "    agg_data.reset_index(inplace=True)\n",
    "    \n",
    "    agg_data = pd.merge(data, agg_data, on='Car_Brand1', how='left')\n",
    "    \n",
    "    return agg_data"
   ]
  },
  {
   "cell_type": "code",
   "execution_count": 56,
   "metadata": {},
   "outputs": [],
   "source": [
    "data=aggregate_functions(data)"
   ]
  },
  {
   "cell_type": "code",
   "execution_count": 57,
   "metadata": {},
   "outputs": [
    {
     "data": {
      "text/html": [
       "<div>\n",
       "<style scoped>\n",
       "    .dataframe tbody tr th:only-of-type {\n",
       "        vertical-align: middle;\n",
       "    }\n",
       "\n",
       "    .dataframe tbody tr th {\n",
       "        vertical-align: top;\n",
       "    }\n",
       "\n",
       "    .dataframe thead th {\n",
       "        text-align: right;\n",
       "    }\n",
       "</style>\n",
       "<table border=\"1\" class=\"dataframe\">\n",
       "  <thead>\n",
       "    <tr style=\"text-align: right;\">\n",
       "      <th></th>\n",
       "      <th>Name</th>\n",
       "      <th>Car_Brand1</th>\n",
       "      <th>Car_Brand</th>\n",
       "      <th>Car_Model</th>\n",
       "      <th>Car_Version</th>\n",
       "      <th>Location</th>\n",
       "      <th>Year</th>\n",
       "      <th>Kilometers_Driven</th>\n",
       "      <th>Fuel_Type</th>\n",
       "      <th>Transmission</th>\n",
       "      <th>...</th>\n",
       "      <th>Mileage</th>\n",
       "      <th>Engine</th>\n",
       "      <th>Power</th>\n",
       "      <th>Seats</th>\n",
       "      <th>Price</th>\n",
       "      <th>Car_Age</th>\n",
       "      <th>Location_count</th>\n",
       "      <th>Mileage_mean</th>\n",
       "      <th>Power_mean</th>\n",
       "      <th>Engine_mean</th>\n",
       "    </tr>\n",
       "  </thead>\n",
       "  <tbody>\n",
       "    <tr>\n",
       "      <th>0</th>\n",
       "      <td>Maruti Wagon R LXI CNG</td>\n",
       "      <td>Maruti Wagon</td>\n",
       "      <td>Maruti</td>\n",
       "      <td>Wagon</td>\n",
       "      <td>R LXI CNG</td>\n",
       "      <td>Mumbai</td>\n",
       "      <td>2010</td>\n",
       "      <td>72000</td>\n",
       "      <td>CNG</td>\n",
       "      <td>Manual</td>\n",
       "      <td>...</td>\n",
       "      <td>26.60</td>\n",
       "      <td>998.0</td>\n",
       "      <td>58.16</td>\n",
       "      <td>5.0</td>\n",
       "      <td>1.75</td>\n",
       "      <td>10</td>\n",
       "      <td>177</td>\n",
       "      <td>20.912373</td>\n",
       "      <td>66.197045</td>\n",
       "      <td>1014.147727</td>\n",
       "    </tr>\n",
       "    <tr>\n",
       "      <th>1</th>\n",
       "      <td>Hyundai Creta 1.6 CRDi SX Option</td>\n",
       "      <td>Hyundai Creta</td>\n",
       "      <td>Hyundai</td>\n",
       "      <td>Creta</td>\n",
       "      <td>1.6 CRDi SX Option</td>\n",
       "      <td>Pune</td>\n",
       "      <td>2015</td>\n",
       "      <td>41000</td>\n",
       "      <td>Diesel</td>\n",
       "      <td>Manual</td>\n",
       "      <td>...</td>\n",
       "      <td>19.67</td>\n",
       "      <td>1582.0</td>\n",
       "      <td>126.20</td>\n",
       "      <td>5.0</td>\n",
       "      <td>12.50</td>\n",
       "      <td>5</td>\n",
       "      <td>118</td>\n",
       "      <td>17.673898</td>\n",
       "      <td>121.830508</td>\n",
       "      <td>1572.745763</td>\n",
       "    </tr>\n",
       "    <tr>\n",
       "      <th>2</th>\n",
       "      <td>Honda Jazz V</td>\n",
       "      <td>Honda Jazz</td>\n",
       "      <td>Honda</td>\n",
       "      <td>Jazz</td>\n",
       "      <td>V</td>\n",
       "      <td>Chennai</td>\n",
       "      <td>2011</td>\n",
       "      <td>46000</td>\n",
       "      <td>Petrol</td>\n",
       "      <td>Manual</td>\n",
       "      <td>...</td>\n",
       "      <td>18.20</td>\n",
       "      <td>1199.0</td>\n",
       "      <td>88.70</td>\n",
       "      <td>5.0</td>\n",
       "      <td>4.50</td>\n",
       "      <td>9</td>\n",
       "      <td>70</td>\n",
       "      <td>20.531429</td>\n",
       "      <td>91.521739</td>\n",
       "      <td>1281.246377</td>\n",
       "    </tr>\n",
       "    <tr>\n",
       "      <th>3</th>\n",
       "      <td>Maruti Ertiga VDI</td>\n",
       "      <td>Maruti Ertiga</td>\n",
       "      <td>Maruti</td>\n",
       "      <td>Ertiga</td>\n",
       "      <td>VDI</td>\n",
       "      <td>Chennai</td>\n",
       "      <td>2012</td>\n",
       "      <td>87000</td>\n",
       "      <td>Diesel</td>\n",
       "      <td>Manual</td>\n",
       "      <td>...</td>\n",
       "      <td>20.77</td>\n",
       "      <td>1248.0</td>\n",
       "      <td>88.76</td>\n",
       "      <td>7.0</td>\n",
       "      <td>6.00</td>\n",
       "      <td>8</td>\n",
       "      <td>86</td>\n",
       "      <td>20.633953</td>\n",
       "      <td>89.712093</td>\n",
       "      <td>1287.860465</td>\n",
       "    </tr>\n",
       "    <tr>\n",
       "      <th>4</th>\n",
       "      <td>Audi A4 New 2.0 TDI Multitronic</td>\n",
       "      <td>Audi A4</td>\n",
       "      <td>Audi</td>\n",
       "      <td>A4</td>\n",
       "      <td>New 2.0 TDI Multitronic</td>\n",
       "      <td>Coimbatore</td>\n",
       "      <td>2013</td>\n",
       "      <td>40670</td>\n",
       "      <td>Diesel</td>\n",
       "      <td>Automatic</td>\n",
       "      <td>...</td>\n",
       "      <td>15.20</td>\n",
       "      <td>1968.0</td>\n",
       "      <td>140.80</td>\n",
       "      <td>5.0</td>\n",
       "      <td>17.74</td>\n",
       "      <td>7</td>\n",
       "      <td>90</td>\n",
       "      <td>16.438111</td>\n",
       "      <td>162.041556</td>\n",
       "      <td>2024.922222</td>\n",
       "    </tr>\n",
       "  </tbody>\n",
       "</table>\n",
       "<p>5 rows × 21 columns</p>\n",
       "</div>"
      ],
      "text/plain": [
       "                               Name     Car_Brand1 Car_Brand Car_Model  \\\n",
       "0            Maruti Wagon R LXI CNG   Maruti Wagon    Maruti     Wagon   \n",
       "1  Hyundai Creta 1.6 CRDi SX Option  Hyundai Creta   Hyundai     Creta   \n",
       "2                      Honda Jazz V     Honda Jazz     Honda      Jazz   \n",
       "3                 Maruti Ertiga VDI  Maruti Ertiga    Maruti    Ertiga   \n",
       "4   Audi A4 New 2.0 TDI Multitronic        Audi A4      Audi        A4   \n",
       "\n",
       "               Car_Version    Location  Year  Kilometers_Driven Fuel_Type  \\\n",
       "0                R LXI CNG      Mumbai  2010              72000       CNG   \n",
       "1       1.6 CRDi SX Option        Pune  2015              41000    Diesel   \n",
       "2                        V     Chennai  2011              46000    Petrol   \n",
       "3                      VDI     Chennai  2012              87000    Diesel   \n",
       "4  New 2.0 TDI Multitronic  Coimbatore  2013              40670    Diesel   \n",
       "\n",
       "  Transmission  ... Mileage  Engine   Power  Seats  Price  Car_Age  \\\n",
       "0       Manual  ...   26.60   998.0   58.16    5.0   1.75       10   \n",
       "1       Manual  ...   19.67  1582.0  126.20    5.0  12.50        5   \n",
       "2       Manual  ...   18.20  1199.0   88.70    5.0   4.50        9   \n",
       "3       Manual  ...   20.77  1248.0   88.76    7.0   6.00        8   \n",
       "4    Automatic  ...   15.20  1968.0  140.80    5.0  17.74        7   \n",
       "\n",
       "   Location_count  Mileage_mean  Power_mean  Engine_mean  \n",
       "0             177     20.912373   66.197045  1014.147727  \n",
       "1             118     17.673898  121.830508  1572.745763  \n",
       "2              70     20.531429   91.521739  1281.246377  \n",
       "3              86     20.633953   89.712093  1287.860465  \n",
       "4              90     16.438111  162.041556  2024.922222  \n",
       "\n",
       "[5 rows x 21 columns]"
      ]
     },
     "execution_count": 57,
     "metadata": {},
     "output_type": "execute_result"
    }
   ],
   "source": [
    "data.head()"
   ]
  },
  {
   "cell_type": "code",
   "execution_count": 58,
   "metadata": {},
   "outputs": [],
   "source": [
    "from sklearn.feature_extraction.text import TfidfVectorizer\n",
    "tf=TfidfVectorizer(lowercase=True, stop_words='english', ngram_range=(1, 1), max_df=1.0, min_df=2, binary=True)\n",
    "data_name=tf.fit_transform(data['Name'])\n",
    "data_name = pd.DataFrame(data=data_name.toarray(), columns=tf.get_feature_names())\n",
    "data=pd.concat([data,data_name],axis=1)"
   ]
  },
  {
   "cell_type": "code",
   "execution_count": 59,
   "metadata": {},
   "outputs": [],
   "source": [
    "data.drop(['Name','Car_Brand','Car_Model','Car_Version','Car_Brand1'],axis=1,inplace=True)"
   ]
  },
  {
   "cell_type": "code",
   "execution_count": 60,
   "metadata": {},
   "outputs": [
    {
     "data": {
      "text/plain": [
       "Text(0.5, 1, 'Heat Map')"
      ]
     },
     "execution_count": 60,
     "metadata": {},
     "output_type": "execute_result"
    },
    {
     "data": {
      "image/png": "[encoded data removed]",
      "text/plain": [
       "<Figure size 432x288 with 2 Axes>"
      ]
     },
     "metadata": {},
     "output_type": "display_data"
    }
   ],
   "source": [
    "ax=sns.heatmap(correlation)\n",
    "plt.title('Heat Map')"
   ]
  },
  {
   "cell_type": "code",
   "execution_count": 61,
   "metadata": {},
   "outputs": [],
   "source": [
    "train_data = data[data['Price'].isnull()!=True]\n",
    "test_df = data[data['Price'].isnull()==True]\n",
    "test_df.drop('Price', axis=1, inplace=True)"
   ]
  },
  {
   "cell_type": "code",
   "execution_count": 62,
   "metadata": {},
   "outputs": [
    {
     "data": {
      "text/plain": [
       "((6006, 669), (1234, 668))"
      ]
     },
     "execution_count": 62,
     "metadata": {},
     "output_type": "execute_result"
    }
   ],
   "source": [
    "train_data.shape,test_df.shape"
   ]
  },
  {
   "cell_type": "code",
   "execution_count": 63,
   "metadata": {},
   "outputs": [],
   "source": [
    "train_data['Price'] = np.log1p(train_data['Price'])"
   ]
  },
  {
   "cell_type": "markdown",
   "metadata": {},
   "source": [
    "Train-Test split:"
   ]
  },
  {
   "cell_type": "code",
   "execution_count": 64,
   "metadata": {},
   "outputs": [],
   "source": [
    "X=train_data.drop(labels=['Price'],axis=1)\n",
    "y=train_data['Price'].values\n",
    "\n",
    "from sklearn.model_selection import train_test_split\n",
    "X_train,X_cv,y_train,y_cv=train_test_split(X,y,test_size=0.25,random_state=1)"
   ]
  },
  {
   "cell_type": "code",
   "execution_count": 65,
   "metadata": {},
   "outputs": [
    {
     "data": {
      "text/plain": [
       "((4504, 668), (1502, 668), (4504,), (1502,))"
      ]
     },
     "execution_count": 65,
     "metadata": {},
     "output_type": "execute_result"
    }
   ],
   "source": [
    "X_train.shape,X_cv.shape,y_train.shape,y_cv.shape"
   ]
  },
  {
   "cell_type": "markdown",
   "metadata": {},
   "source": [
    "Building the model:"
   ]
  },
  {
   "cell_type": "code",
   "execution_count": 66,
   "metadata": {},
   "outputs": [],
   "source": [
    "from math import sqrt\n",
    "from sklearn.metrics import mean_squared_log_error,r2_score\n"
   ]
  },
  {
   "cell_type": "code",
   "execution_count": 67,
   "metadata": {},
   "outputs": [
    {
     "name": "stdout",
     "output_type": "stream",
     "text": [
      "Requirement already satisfied: lightgbm in c:\\users\\m ramani priya\\anaconda3\\lib\\site-packages (2.3.1)\n",
      "Requirement already satisfied: scikit-learn in c:\\users\\m ramani priya\\anaconda3\\lib\\site-packages (from lightgbm) (0.22.1)\n",
      "Requirement already satisfied: scipy in c:\\users\\m ramani priya\\anaconda3\\lib\\site-packages (from lightgbm) (1.4.1)\n",
      "Requirement already satisfied: numpy in c:\\users\\m ramani priya\\anaconda3\\lib\\site-packages (from lightgbm) (1.18.1)\n",
      "Requirement already satisfied: joblib>=0.11 in c:\\users\\m ramani priya\\anaconda3\\lib\\site-packages (from scikit-learn->lightgbm) (0.14.1)\n",
      "Training until validation scores don't improve for 50 rounds\n",
      "[100]\tvalid_0's rmse: 0.164109\n",
      "[200]\tvalid_0's rmse: 0.1557\n",
      "[300]\tvalid_0's rmse: 0.153479\n",
      "[400]\tvalid_0's rmse: 0.152878\n",
      "[500]\tvalid_0's rmse: 0.152654\n",
      "Early stopping, best iteration is:\n",
      "[519]\tvalid_0's rmse: 0.152532\n",
      "RMSLE: 0.15253161868202922\n",
      "R2 : 0.9571666251219397\n"
     ]
    }
   ],
   "source": [
    "!pip install lightgbm\n",
    "import lightgbm as lgb\n",
    "#creating datasets\n",
    "train_data = lgb.Dataset(X_train, label=y_train)\n",
    "test_data = lgb.Dataset(X_cv, label=y_cv)\n",
    "\n",
    "param = {'objective': 'regression',\n",
    "         'boosting': 'gbdt',  \n",
    "         'metric': 'l2_root',\n",
    "         'learning_rate': 0.05, \n",
    "         'num_iterations': 1000,\n",
    "         'num_leaves': 30,\n",
    "         'max_depth': -1,\n",
    "         'min_data_in_leaf': 4,\n",
    "         'bagging_fraction': 0.78,\n",
    "         'bagging_freq': 1,\n",
    "         'feature_fraction': 0.65,\n",
    "         }\n",
    "\n",
    "lgbm = lgb.train(params=param,\n",
    "                 verbose_eval=100,\n",
    "                 early_stopping_rounds=50,\n",
    "                 train_set=train_data,\n",
    "                 valid_sets=[test_data])\n",
    "\n",
    "#generating predictions of X_cv\n",
    "y_pred_lgbm = lgbm.predict(X_cv) #predictions of X_cv are in y_pred_lgbm\n",
    "print('RMSLE:', sqrt(mean_squared_log_error(np.expm1(y_cv), np.expm1(y_pred_lgbm))))\n",
    "print('R2 :',r2_score(y_cv,y_pred_lgbm))"
   ]
  },
  {
   "cell_type": "markdown",
   "metadata": {},
   "source": [
    "objectve-Specify learning task and corr learning objective.\n",
    "gbdt-Gradient Boosting Decision Tree.\n",
    "num_leaves-maximum tree leaves.\n",
    "max_depth-maximum tree depth.\n",
    "min_data_in_leaf-minimal number of data in one leaf.\n",
    "bagging_fraction-selects small part of data without resampling, speed up boosting and is used to deal with overfitting.\n",
    "feature_fraction-will select 80% of features before training each tree,speed up training.\n",
    "\n",
    "train(.) method:\n",
    "params-parameters for booster.\n",
    "early_stopping_rounds-initiates early stopping.\n",
    "\n",
    "predict(.) method:\n",
    "predict(data)-To make a prediction, here data is data source for prediction here test data.\n",
    "RMSLE-root mean squared log error.\n",
    "R2 score -R squared score.\n"
   ]
  },
  {
   "cell_type": "code",
   "execution_count": 68,
   "metadata": {
    "scrolled": true
   },
   "outputs": [
    {
     "data": {
      "image/png": "[encoded data removed]",
      "text/plain": [
       "<Figure size 1440x720 with 1 Axes>"
      ]
     },
     "metadata": {},
     "output_type": "display_data"
    }
   ],
   "source": [
    "feature_imp=pd.DataFrame(sorted(zip(lgbm.feature_importance(),X.columns),reverse=True)[:15],\n",
    "                         columns=['Value','Feature'])\n",
    "plt.figure(figsize=(20,10))\n",
    "sns.barplot(x=\"Value\",y=\"Feature\",data=feature_imp.sort_values(by=\"Value\",ascending=False))\n",
    "plt.title('Feature Importance')\n",
    "plt.tight_layout()\n",
    "plt.show()"
   ]
  },
  {
   "cell_type": "markdown",
   "metadata": {},
   "source": [
    "feature_importance"
   ]
  },
  {
   "cell_type": "markdown",
   "metadata": {},
   "source": [
    "Predict on Test Set:"
   ]
  },
  {
   "cell_type": "code",
   "execution_count": 69,
   "metadata": {},
   "outputs": [
    {
     "name": "stdout",
     "output_type": "stream",
     "text": [
      "RMSLE LGBM:  0.13306078529350587\n",
      "R2 Score :  0.9677761413981292\n",
      "RMSLE LGBM:  0.13780629296700178\n",
      "R2 Score :  0.9670114404273947\n",
      "RMSLE LGBM:  0.11242563464552072\n",
      "R2 Score :  0.9761627232308039\n",
      "RMSLE LGBM:  0.12403870120625805\n",
      "R2 Score :  0.975193489599897\n",
      "RMSLE LGBM:  0.11916067128657322\n",
      "R2 Score :  0.9779539394621157\n",
      "RMSLE LGBM:  0.1461081790324963\n",
      "R2 Score :  0.9575315821582422\n",
      "RMSLE LGBM:  0.2035244779541948\n",
      "R2 Score :  0.9252317734483041\n",
      "RMSLE LGBM:  0.10755854409071382\n",
      "R2 Score :  0.9772274444911035\n",
      "RMSLE LGBM:  0.14032623889568802\n",
      "R2 Score :  0.9609610760549864\n",
      "RMSLE LGBM:  0.12499933308435938\n",
      "R2 Score :  0.9710364223476528\n",
      "RMSLE LGBM:  0.11107356496716553\n",
      "R2 Score :  0.9775664967818274\n",
      "RMSLE LGBM:  0.11314396562380358\n",
      "R2 Score :  0.977677710087625\n",
      "RMSLE LGBM:  0.12318681905758704\n",
      "R2 Score :  0.9728050116580784\n",
      "RMSLE LGBM:  0.1312500478375577\n",
      "R2 Score :  0.9699576989946253\n",
      "RMSLE LGBM:  0.1452249786820045\n",
      "R2 Score :  0.963210033833227\n"
     ]
    }
   ],
   "source": [
    "Xtest=test_df\n",
    "from sklearn.model_selection import KFold\n",
    "from lightgbm import LGBMRegressor\n",
    "\n",
    "errlgb = []\n",
    "y_pred_totlgb = []\n",
    "\n",
    "fold = KFold(n_splits=15, shuffle=True, random_state=42)\n",
    "\n",
    "#each group of train and test sets are iterated \n",
    "for train_index, test_index in fold.split(X):\n",
    "    X_train, X_test = X.loc[train_index], X.loc[test_index]\n",
    "    y_train, y_test = y[train_index], y[test_index]\n",
    "\n",
    "    param = {'objective': 'regression',\n",
    "         'boosting': 'gbdt',  \n",
    "         'metric': 'l2_root',\n",
    "         'learning_rate': 0.05, \n",
    "         'num_iterations': 1000,\n",
    "         'num_leaves': 30,\n",
    "         'max_depth': -1,\n",
    "         'min_data_in_leaf': 4,\n",
    "         'bagging_fraction': 0.78,\n",
    "         'bagging_freq': 1,\n",
    "         'feature_fraction': 0.65\n",
    "         }\n",
    "    \n",
    "    #LightGBM Regressor\n",
    "    lgbm = LGBMRegressor(**param)\n",
    "    \n",
    "    #Fit to training data\n",
    "    lgbm.fit(X_train, y_train, eval_set=[(X_test, y_test)], verbose=0, early_stopping_rounds=50)\n",
    "    \n",
    "    #generate predictions\n",
    "    y_pred_lgbm = lgbm.predict(X_test)#The predictions of X_test are in y_pred_lgbm (as well as X_cv)\n",
    "    print(\"RMSLE LGBM: \", sqrt(mean_squared_log_error(np.expm1(y_test), np.expm1(y_pred_lgbm))))\n",
    "    \n",
    "    errlgb.append(sqrt(mean_squared_log_error(np.expm1(y_test), np.expm1(y_pred_lgbm))))#finding RMSLE and appending it to errlgb list\n",
    "    p = lgbm.predict(Xtest)#generating prediction of XTest\n",
    "    \n",
    "    y_pred_totlgb.append(p)#appending prediction of XTest to y_pred_totlgb list\n",
    "    print('R2 Score : ',r2_score(y_test,y_pred_lgbm)) #finding R2 score"
   ]
  },
  {
   "cell_type": "markdown",
   "metadata": {},
   "source": [
    "We have used K Fold cross validation to estimate the skill of the model.\n",
    "split(.) method returns each group of train and test sets.\n",
    "LGBM Regressor(params) - parameters are passed\n",
    "\n",
    "predict(data)-To make a prediction, here data is data source for prediction here test data."
   ]
  },
  {
   "cell_type": "code",
   "execution_count": 70,
   "metadata": {},
   "outputs": [
    {
     "data": {
      "text/plain": [
       "0.13152588230829537"
      ]
     },
     "execution_count": 70,
     "metadata": {},
     "output_type": "execute_result"
    }
   ],
   "source": [
    "np.mean(errlgb) #mean of the rmsle values of y_test and y_pred_lgbm"
   ]
  },
  {
   "cell_type": "code",
   "execution_count": 71,
   "metadata": {},
   "outputs": [],
   "source": [
    "lgbm_final=np.expm1(np.mean(y_pred_totlgb,0)) #generates exp(mean of y_pred_totlgb) and stores in lgbm_final"
   ]
  },
  {
   "cell_type": "code",
   "execution_count": 72,
   "metadata": {},
   "outputs": [],
   "source": [
    "df_sub=pd.DataFrame(data=lgbm_final,columns=['Price']) #converts lgbm_final into a dataframe \n",
    "writer=pd.ExcelWriter('Test_Price.xlsx',engine='xlsxwriter')\n",
    "df_sub.to_excel(writer,sheet_name='Sheet1',index=False) #converts dataframe to an excel sheet\n",
    "writer.save()"
   ]
  },
  {
   "cell_type": "markdown",
   "metadata": {},
   "source": [
    "Saving the content of the final price values into new excel sheet."
   ]
  },
  {
   "cell_type": "code",
   "execution_count": 73,
   "metadata": {},
   "outputs": [
    {
     "data": {
      "text/plain": [
       "(1234, 1)"
      ]
     },
     "execution_count": 73,
     "metadata": {},
     "output_type": "execute_result"
    }
   ],
   "source": [
    "df_sub.shape"
   ]
  },
  {
   "cell_type": "markdown",
   "metadata": {},
   "source": [
    "The Price of the cars in Data_Test file:"
   ]
  },
  {
   "cell_type": "code",
   "execution_count": 74,
   "metadata": {},
   "outputs": [
    {
     "data": {
      "text/html": [
       "<div>\n",
       "<style scoped>\n",
       "    .dataframe tbody tr th:only-of-type {\n",
       "        vertical-align: middle;\n",
       "    }\n",
       "\n",
       "    .dataframe tbody tr th {\n",
       "        vertical-align: top;\n",
       "    }\n",
       "\n",
       "    .dataframe thead th {\n",
       "        text-align: right;\n",
       "    }\n",
       "</style>\n",
       "<table border=\"1\" class=\"dataframe\">\n",
       "  <thead>\n",
       "    <tr style=\"text-align: right;\">\n",
       "      <th></th>\n",
       "      <th>Price</th>\n",
       "    </tr>\n",
       "  </thead>\n",
       "  <tbody>\n",
       "    <tr>\n",
       "      <th>0</th>\n",
       "      <td>2.689991</td>\n",
       "    </tr>\n",
       "    <tr>\n",
       "      <th>1</th>\n",
       "      <td>2.953022</td>\n",
       "    </tr>\n",
       "    <tr>\n",
       "      <th>2</th>\n",
       "      <td>16.397162</td>\n",
       "    </tr>\n",
       "    <tr>\n",
       "      <th>3</th>\n",
       "      <td>3.897619</td>\n",
       "    </tr>\n",
       "    <tr>\n",
       "      <th>4</th>\n",
       "      <td>4.462423</td>\n",
       "    </tr>\n",
       "    <tr>\n",
       "      <th>...</th>\n",
       "      <td>...</td>\n",
       "    </tr>\n",
       "    <tr>\n",
       "      <th>1229</th>\n",
       "      <td>3.954107</td>\n",
       "    </tr>\n",
       "    <tr>\n",
       "      <th>1230</th>\n",
       "      <td>5.956818</td>\n",
       "    </tr>\n",
       "    <tr>\n",
       "      <th>1231</th>\n",
       "      <td>2.947252</td>\n",
       "    </tr>\n",
       "    <tr>\n",
       "      <th>1232</th>\n",
       "      <td>4.464189</td>\n",
       "    </tr>\n",
       "    <tr>\n",
       "      <th>1233</th>\n",
       "      <td>19.591932</td>\n",
       "    </tr>\n",
       "  </tbody>\n",
       "</table>\n",
       "<p>1234 rows × 1 columns</p>\n",
       "</div>"
      ],
      "text/plain": [
       "          Price\n",
       "0      2.689991\n",
       "1      2.953022\n",
       "2     16.397162\n",
       "3      3.897619\n",
       "4      4.462423\n",
       "...         ...\n",
       "1229   3.954107\n",
       "1230   5.956818\n",
       "1231   2.947252\n",
       "1232   4.464189\n",
       "1233  19.591932\n",
       "\n",
       "[1234 rows x 1 columns]"
      ]
     },
     "execution_count": 74,
     "metadata": {},
     "output_type": "execute_result"
    }
   ],
   "source": [
    "df_sub"
   ]
  },
  {
   "cell_type": "code",
   "execution_count": null,
   "metadata": {},
   "outputs": [],
   "source": []
  }
 ],
 "metadata": {
  "kernelspec": {
   "display_name": "Python 3",
   "language": "python",
   "name": "python3"
  },
  "language_info": {
   "codemirror_mode": {
    "name": "ipython",
    "version": 3
   },
   "file_extension": ".py",
   "mimetype": "text/x-python",
   "name": "python",
   "nbconvert_exporter": "python",
   "pygments_lexer": "ipython3",
   "version": "3.7.6"
  }
 },
 "nbformat": 4,
 "nbformat_minor": 4
}
